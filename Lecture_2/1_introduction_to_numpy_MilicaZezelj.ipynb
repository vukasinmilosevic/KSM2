{
  "cells": [
    {
      "cell_type": "markdown",
      "metadata": {
        "id": "UBzMRMaILt6H"
      },
      "source": [
        "## Hello Jupyter"
      ]
    },
    {
      "cell_type": "code",
      "execution_count": 2,
      "metadata": {
        "colab": {
          "base_uri": "https://localhost:8080/"
        },
        "id": "W9KDc3drLt6W",
        "outputId": "787b52b0-dcae-40fd-8baf-b2506b710f32"
      },
      "outputs": [
        {
          "output_type": "stream",
          "name": "stdout",
          "text": [
            "hello Alex\n"
          ]
        }
      ],
      "source": [
        "print ('hello Alex')"
      ]
    },
    {
      "cell_type": "code",
      "execution_count": 3,
      "metadata": {
        "colab": {
          "base_uri": "https://localhost:8080/"
        },
        "id": "FnPM1VGFLt6e",
        "outputId": "43e81135-d019-4d68-cbec-5d7998e6b6fb"
      },
      "outputs": [
        {
          "output_type": "stream",
          "name": "stdout",
          "text": [
            "3\n"
          ]
        }
      ],
      "source": [
        "x = 3\n",
        "print (x)"
      ]
    },
    {
      "cell_type": "code",
      "execution_count": 4,
      "metadata": {
        "colab": {
          "base_uri": "https://localhost:8080/"
        },
        "id": "0vIsxNS-Lt6i",
        "outputId": "4ad701d7-1610-4be0-ff12-8b92d98f6950"
      },
      "outputs": [
        {
          "output_type": "execute_result",
          "data": {
            "text/plain": [
              "8"
            ]
          },
          "metadata": {},
          "execution_count": 4
        }
      ],
      "source": [
        "# reexecute this cell several times\n",
        "x = x + 5\n",
        "# output of the last line in the cell is shown\n",
        "x"
      ]
    },
    {
      "cell_type": "code",
      "execution_count": 5,
      "metadata": {
        "colab": {
          "base_uri": "https://localhost:8080/",
          "height": 35
        },
        "id": "gHdX6vegLt6k",
        "outputId": "bedb823e-de2a-4705-a627-56b05ffe054b"
      },
      "outputs": [
        {
          "output_type": "execute_result",
          "data": {
            "text/plain": [
              "'string can contain characters including \\n new lines and \\t tabs'"
            ],
            "application/vnd.google.colaboratory.intrinsic+json": {
              "type": "string"
            }
          },
          "metadata": {},
          "execution_count": 5
        }
      ],
      "source": [
        "my_string = \"string can contain characters including \\n new lines and \\t tabs\"\n",
        "my_string"
      ]
    },
    {
      "cell_type": "code",
      "execution_count": 6,
      "metadata": {
        "colab": {
          "base_uri": "https://localhost:8080/"
        },
        "id": "9_4DQTn3Lt6m",
        "outputId": "b0b9d583-36a6-4211-b20a-a4cd2e5f99d7"
      },
      "outputs": [
        {
          "output_type": "stream",
          "name": "stdout",
          "text": [
            "string can contain characters including \n",
            " new lines and \t tabs\n"
          ]
        }
      ],
      "source": [
        "print (my_string)"
      ]
    },
    {
      "cell_type": "code",
      "execution_count": 7,
      "metadata": {
        "colab": {
          "base_uri": "https://localhost:8080/"
        },
        "id": "LI659rHeLt6p",
        "outputId": "6c3c39a4-beb9-436e-a3f0-734676511999"
      },
      "outputs": [
        {
          "output_type": "execute_result",
          "data": {
            "text/plain": [
              "57"
            ]
          },
          "metadata": {},
          "execution_count": 7
        }
      ],
      "source": [
        "12 + 45"
      ]
    },
    {
      "cell_type": "code",
      "execution_count": 8,
      "metadata": {
        "colab": {
          "base_uri": "https://localhost:8080/"
        },
        "id": "V2wPWqlDLt6s",
        "outputId": "595e859c-0315-4dd7-8418-3cbcab9e6f99"
      },
      "outputs": [
        {
          "output_type": "execute_result",
          "data": {
            "text/plain": [
              "84.0"
            ]
          },
          "metadata": {},
          "execution_count": 8
        }
      ],
      "source": [
        "# result types are safer\n",
        "24 * 3.5"
      ]
    },
    {
      "cell_type": "markdown",
      "metadata": {
        "id": "n6Np8S11Lt6v"
      },
      "source": [
        "## Lists, Dictionaries"
      ]
    },
    {
      "cell_type": "code",
      "execution_count": 9,
      "metadata": {
        "id": "iiuy0Ml4Lt6x"
      },
      "outputs": [],
      "source": [
        "x = [1, 2, 3]"
      ]
    },
    {
      "cell_type": "code",
      "execution_count": 10,
      "metadata": {
        "colab": {
          "base_uri": "https://localhost:8080/"
        },
        "id": "xLhCNOXWLt60",
        "outputId": "1aa870c3-8992-43ae-ceaa-ea5db5361f8d"
      },
      "outputs": [
        {
          "output_type": "execute_result",
          "data": {
            "text/plain": [
              "(1, 3)"
            ]
          },
          "metadata": {},
          "execution_count": 10
        }
      ],
      "source": [
        "# in python enumeration starts from 0\n",
        "x[0], x[2]"
      ]
    },
    {
      "cell_type": "code",
      "execution_count": 11,
      "metadata": {
        "colab": {
          "base_uri": "https://localhost:8080/"
        },
        "id": "PMlg-cawLt62",
        "outputId": "3255e191-acb0-4e76-b261-4e86f299f005"
      },
      "outputs": [
        {
          "output_type": "execute_result",
          "data": {
            "text/plain": [
              "[1, 2, 5, 10]"
            ]
          },
          "metadata": {},
          "execution_count": 11
        }
      ],
      "source": [
        "y = x[0:2] + [5, 10]\n",
        "y"
      ]
    },
    {
      "cell_type": "code",
      "execution_count": 12,
      "metadata": {
        "colab": {
          "base_uri": "https://localhost:8080/"
        },
        "id": "f_MGLur3Lt64",
        "outputId": "dc468c1a-3fe9-408a-d57f-9002bef0ba4e"
      },
      "outputs": [
        {
          "output_type": "execute_result",
          "data": {
            "text/plain": [
              "[1, 5]"
            ]
          },
          "metadata": {},
          "execution_count": 12
        }
      ],
      "source": [
        "y[::2]"
      ]
    },
    {
      "cell_type": "code",
      "execution_count": 13,
      "metadata": {
        "colab": {
          "base_uri": "https://localhost:8080/"
        },
        "id": "MWwTnp99Lt66",
        "outputId": "d6a460ae-01aa-4df6-9b7b-8ab1c1b33c2d"
      },
      "outputs": [
        {
          "output_type": "execute_result",
          "data": {
            "text/plain": [
              "[10, 5, 2, 1]"
            ]
          },
          "metadata": {},
          "execution_count": 13
        }
      ],
      "source": [
        "y[::-1]"
      ]
    },
    {
      "cell_type": "markdown",
      "metadata": {
        "id": "4zWq9cXjLt68"
      },
      "source": [
        "## Dictionaries"
      ]
    },
    {
      "cell_type": "code",
      "execution_count": 14,
      "metadata": {
        "id": "2Td0Nj3ZLt69"
      },
      "outputs": [],
      "source": [
        "d = {'a': 1, 'b': 2}"
      ]
    },
    {
      "cell_type": "code",
      "execution_count": 15,
      "metadata": {
        "colab": {
          "base_uri": "https://localhost:8080/"
        },
        "id": "RwZ0c3LOLt6_",
        "outputId": "3caa882b-a4f3-47ba-c708-01cca862c51d"
      },
      "outputs": [
        {
          "output_type": "execute_result",
          "data": {
            "text/plain": [
              "{'a': 1, 'b': 2, 'c': 3, 'casdsd': 34}"
            ]
          },
          "metadata": {},
          "execution_count": 15
        }
      ],
      "source": [
        "d['c'] = 3\n",
        "d['casdsd'] = 34\n",
        "d"
      ]
    },
    {
      "cell_type": "code",
      "execution_count": 16,
      "metadata": {
        "colab": {
          "base_uri": "https://localhost:8080/"
        },
        "id": "CTWvxwD_Lt7B",
        "outputId": "0b79ff87-a7ad-453e-cab9-2878337eca20"
      },
      "outputs": [
        {
          "output_type": "stream",
          "name": "stdout",
          "text": [
            "a 1\n",
            "b 2\n",
            "c 3\n",
            "casdsd 34\n"
          ]
        }
      ],
      "source": [
        "for key, value in d.items():\n",
        "    print (key, value)"
      ]
    },
    {
      "cell_type": "markdown",
      "metadata": {
        "id": "ylWiJjtZLt7D"
      },
      "source": [
        "## Important python libraries\n",
        "\n",
        " - numpy (numerics) + scipy (scientific functions) \n",
        " - matplotlib - plotting\n",
        " - pandas - convenient operations on data for Data Science\n",
        " - scikit-learn - machine learning\n",
        " \n",
        "We'll meet them very soon."
      ]
    },
    {
      "cell_type": "markdown",
      "metadata": {
        "id": "DB76mQEiLt7E"
      },
      "source": [
        "## Hello numpy!\n",
        "\n",
        "`numpy` is the core of scientific python. It is the most convenient way to organize number-crunching in python."
      ]
    },
    {
      "cell_type": "code",
      "execution_count": 17,
      "metadata": {
        "id": "9c96QK3LLt7G"
      },
      "outputs": [],
      "source": [
        "import numpy"
      ]
    },
    {
      "cell_type": "code",
      "execution_count": 18,
      "metadata": {
        "colab": {
          "base_uri": "https://localhost:8080/"
        },
        "id": "vUJpbf14Lt7H",
        "outputId": "261770e3-f53e-4472-8bd5-39bbb1eaa7cb"
      },
      "outputs": [
        {
          "output_type": "execute_result",
          "data": {
            "text/plain": [
              "array([0, 1, 2, 3, 4, 5, 6, 7, 8, 9])"
            ]
          },
          "metadata": {},
          "execution_count": 18
        }
      ],
      "source": [
        "x = numpy.arange(10)\n",
        "x"
      ]
    },
    {
      "cell_type": "code",
      "execution_count": 19,
      "metadata": {
        "colab": {
          "base_uri": "https://localhost:8080/"
        },
        "id": "7r6NVYY5Lt7J",
        "outputId": "b4659b2b-b1c3-4aba-9d10-83de66519cfe"
      },
      "outputs": [
        {
          "output_type": "execute_result",
          "data": {
            "text/plain": [
              "array([[0, 1],\n",
              "       [2, 3],\n",
              "       [4, 5],\n",
              "       [6, 7],\n",
              "       [8, 9]])"
            ]
          },
          "metadata": {},
          "execution_count": 19
        }
      ],
      "source": [
        "x.reshape(5, 2)"
      ]
    },
    {
      "cell_type": "code",
      "execution_count": 20,
      "metadata": {
        "id": "IC1E3EsBLt7K"
      },
      "outputs": [],
      "source": [
        "# x.reshape(3, 4)"
      ]
    },
    {
      "cell_type": "code",
      "execution_count": 21,
      "metadata": {
        "colab": {
          "base_uri": "https://localhost:8080/"
        },
        "id": "Lb_nZpH4Lt7L",
        "outputId": "b5272529-3821-4f0e-e980-855443d6ea48"
      },
      "outputs": [
        {
          "output_type": "execute_result",
          "data": {
            "text/plain": [
              "array([0, 1, 2, 3])"
            ]
          },
          "metadata": {},
          "execution_count": 21
        }
      ],
      "source": [
        "# slicing has the same logic for lists / strings / tuples / numpy, etc\n",
        "x[:4]"
      ]
    },
    {
      "cell_type": "code",
      "execution_count": 22,
      "metadata": {
        "colab": {
          "base_uri": "https://localhost:8080/"
        },
        "id": "cujP10bQLt7N",
        "outputId": "b8bbf40c-0e9c-4c46-8891-53c3322f4ce6"
      },
      "outputs": [
        {
          "output_type": "stream",
          "name": "stdout",
          "text": [
            "[0 1 2]\n",
            "[3 4 5 6]\n",
            "[7 8 9]\n"
          ]
        }
      ],
      "source": [
        "print (x[:3])\n",
        "print (x[3:7])\n",
        "print (x[7:])"
      ]
    },
    {
      "cell_type": "markdown",
      "metadata": {
        "id": "POdI3dbKLt7O"
      },
      "source": [
        "### Vector operations"
      ]
    },
    {
      "cell_type": "code",
      "execution_count": 23,
      "metadata": {
        "colab": {
          "base_uri": "https://localhost:8080/"
        },
        "id": "cK_HTfGyLt7P",
        "outputId": "596354a3-0cc6-402e-ea61-dfc1dc04bc84"
      },
      "outputs": [
        {
          "output_type": "execute_result",
          "data": {
            "text/plain": [
              "array([1.200000e+01, 1.500000e+01, 1.800000e+01, ..., 3.000003e+06,\n",
              "       3.000006e+06, 3.000009e+06])"
            ]
          },
          "metadata": {},
          "execution_count": 23
        }
      ],
      "source": [
        "x = numpy.arange(10 ** 6) #Return evenly spaced values within a given interval.\n",
        "# vector operations do similar task for each element. In this case each element is multiplied by 3 and 12 added.\n",
        "3 * x + 12."
      ]
    },
    {
      "cell_type": "code",
      "execution_count": 24,
      "metadata": {
        "colab": {
          "base_uri": "https://localhost:8080/"
        },
        "id": "ag45cdaQLt7Q",
        "outputId": "fe8512d9-3dc7-4343-b127-0ba68b4b4e74"
      },
      "outputs": [
        {
          "output_type": "stream",
          "name": "stdout",
          "text": [
            "1.94 ms ± 127 µs per loop (mean ± std. dev. of 7 runs, 100 loops each)\n"
          ]
        }
      ],
      "source": [
        "# use timing magic to understand this is quite fast\n",
        "%timeit 3 * x + 12."
      ]
    },
    {
      "cell_type": "code",
      "execution_count": 25,
      "metadata": {
        "colab": {
          "base_uri": "https://localhost:8080/"
        },
        "id": "VQHDh1MVLt7R",
        "outputId": "15094875-d5fc-4f2b-c963-6f60997a42fb"
      },
      "outputs": [
        {
          "output_type": "execute_result",
          "data": {
            "text/plain": [
              "array([[ 0,  1,  2],\n",
              "       [ 3,  4,  5],\n",
              "       [ 6,  7,  8],\n",
              "       [ 9, 10, 11],\n",
              "       [12, 13, 14]])"
            ]
          },
          "metadata": {},
          "execution_count": 25
        }
      ],
      "source": [
        "Z = numpy.arange(15).reshape(5, 3)\n",
        "Z"
      ]
    },
    {
      "cell_type": "code",
      "execution_count": 26,
      "metadata": {
        "colab": {
          "base_uri": "https://localhost:8080/"
        },
        "id": "5d1etyALLt7S",
        "outputId": "19c85347-a23a-4d53-dfb8-42ed8f0c9db2"
      },
      "outputs": [
        {
          "output_type": "execute_result",
          "data": {
            "text/plain": [
              "array([[ 0.,  1.,  2.],\n",
              "       [ 3.,  4.,  5.],\n",
              "       [ 6.,  7.,  8.],\n",
              "       [ 9., 10., 11.],\n",
              "       [12., 13., 14.]])"
            ]
          },
          "metadata": {},
          "execution_count": 26
        }
      ],
      "source": [
        "numpy.log(numpy.exp(Z)) # type conversion happened"
      ]
    },
    {
      "cell_type": "code",
      "execution_count": 27,
      "metadata": {
        "id": "XMuUZxpULt7U"
      },
      "outputs": [],
      "source": [
        "Z += 4"
      ]
    },
    {
      "cell_type": "code",
      "execution_count": 28,
      "metadata": {
        "colab": {
          "base_uri": "https://localhost:8080/"
        },
        "id": "F7GcNHXuLt7U",
        "outputId": "7eb57c7d-2f17-4641-8748-4d3383ddb9b9"
      },
      "outputs": [
        {
          "output_type": "execute_result",
          "data": {
            "text/plain": [
              "array([[ 4,  5,  6],\n",
              "       [ 7,  8,  9],\n",
              "       [10, 11, 12],\n",
              "       [13, 14, 15],\n",
              "       [16, 17, 18]])"
            ]
          },
          "metadata": {},
          "execution_count": 28
        }
      ],
      "source": [
        "Z"
      ]
    },
    {
      "cell_type": "code",
      "execution_count": 29,
      "metadata": {
        "colab": {
          "base_uri": "https://localhost:8080/"
        },
        "id": "o8Th6-AILt7V",
        "outputId": "06bdcd88-1864-4c33-be88-6e700fa724cc"
      },
      "outputs": [
        {
          "output_type": "execute_result",
          "data": {
            "text/plain": [
              "array([[ 4,  5,  6],\n",
              "       [10, 11, 12],\n",
              "       [16, 17, 18]])"
            ]
          },
          "metadata": {},
          "execution_count": 29
        }
      ],
      "source": [
        "Z[::2, :]"
      ]
    },
    {
      "cell_type": "code",
      "execution_count": 30,
      "metadata": {
        "colab": {
          "base_uri": "https://localhost:8080/"
        },
        "id": "POTDkjXOLt7W",
        "outputId": "fddae609-e5f5-43f8-f964-30540818929e"
      },
      "outputs": [
        {
          "output_type": "execute_result",
          "data": {
            "text/plain": [
              "array([[ 4,  5,  6],\n",
              "       [10, 11, 12],\n",
              "       [16, 17, 18]])"
            ]
          },
          "metadata": {},
          "execution_count": 30
        }
      ],
      "source": [
        "Z[[0, 2, 4], :]"
      ]
    },
    {
      "cell_type": "code",
      "execution_count": 31,
      "metadata": {
        "colab": {
          "base_uri": "https://localhost:8080/"
        },
        "id": "PiWb1ZrgLt7X",
        "outputId": "4708058c-f425-4a1e-fb7b-837912cc54e1"
      },
      "outputs": [
        {
          "output_type": "execute_result",
          "data": {
            "text/plain": [
              "array([15, 24, 33, 42, 51])"
            ]
          },
          "metadata": {},
          "execution_count": 31
        }
      ],
      "source": [
        "Z.sum(axis=1)"
      ]
    },
    {
      "cell_type": "code",
      "execution_count": 91,
      "metadata": {
        "colab": {
          "base_uri": "https://localhost:8080/"
        },
        "id": "zf9NwIoqLt7Z",
        "outputId": "fab09c5b-e278-4a9f-f74f-8119b149ed8c"
      },
      "outputs": [
        {
          "output_type": "execute_result",
          "data": {
            "text/plain": [
              "array([50, 55, 60])"
            ]
          },
          "metadata": {},
          "execution_count": 91
        }
      ],
      "source": [
        "# axes are also zero-numerated\n",
        "Z.sum(axis=0)"
      ]
    },
    {
      "cell_type": "code",
      "execution_count": 33,
      "metadata": {
        "colab": {
          "base_uri": "https://localhost:8080/"
        },
        "id": "It8BFCYxLt7a",
        "outputId": "53a965eb-52a9-49c6-f01a-bbc221a8712e"
      },
      "outputs": [
        {
          "output_type": "execute_result",
          "data": {
            "text/plain": [
              "array([ 6,  9, 12, 15, 18])"
            ]
          },
          "metadata": {},
          "execution_count": 33
        }
      ],
      "source": [
        "Z.max(axis=1)"
      ]
    },
    {
      "cell_type": "code",
      "execution_count": 34,
      "metadata": {
        "colab": {
          "base_uri": "https://localhost:8080/"
        },
        "id": "XaIC7ClMLt7b",
        "outputId": "87e3fc4e-f067-4129-8726-b1fad503734a"
      },
      "outputs": [
        {
          "output_type": "execute_result",
          "data": {
            "text/plain": [
              "array([[ -6,  -5,  -4],\n",
              "       [ -9,  -8,  -7],\n",
              "       [-12, -11, -10],\n",
              "       [-15, -14, -13],\n",
              "       [-18, -17, -16]])"
            ]
          },
          "metadata": {},
          "execution_count": 34
        }
      ],
      "source": [
        "Z2 = - Z\n",
        "Z2 = numpy.sort(Z2, axis=1)\n",
        "Z2"
      ]
    },
    {
      "cell_type": "markdown",
      "metadata": {
        "id": "MX7Mi5N3Lt7d"
      },
      "source": [
        "## Indexing with boolean array"
      ]
    },
    {
      "cell_type": "code",
      "execution_count": 35,
      "metadata": {
        "colab": {
          "base_uri": "https://localhost:8080/"
        },
        "id": "m27EhHf6Lt7e",
        "outputId": "6fc20fa2-befc-49f0-e69c-8e70e82cd985"
      },
      "outputs": [
        {
          "output_type": "execute_result",
          "data": {
            "text/plain": [
              "array([0, 1, 2, 3, 4, 5, 6, 7, 8, 9])"
            ]
          },
          "metadata": {},
          "execution_count": 35
        }
      ],
      "source": [
        "x = numpy.arange(10)\n",
        "x"
      ]
    },
    {
      "cell_type": "code",
      "execution_count": 36,
      "metadata": {
        "colab": {
          "base_uri": "https://localhost:8080/"
        },
        "id": "Ng51pX2KLt7g",
        "outputId": "42f874b2-48ec-4663-97f3-3d4ec616edb9"
      },
      "outputs": [
        {
          "output_type": "execute_result",
          "data": {
            "text/plain": [
              "array([False, False, False, False,  True,  True,  True,  True,  True,\n",
              "        True])"
            ]
          },
          "metadata": {},
          "execution_count": 36
        }
      ],
      "source": [
        "x > 3"
      ]
    },
    {
      "cell_type": "code",
      "execution_count": 37,
      "metadata": {
        "colab": {
          "base_uri": "https://localhost:8080/"
        },
        "id": "Z-tHbNO_Lt7h",
        "outputId": "57e7398e-8196-4fd9-9db2-44f6aa705ace"
      },
      "outputs": [
        {
          "output_type": "execute_result",
          "data": {
            "text/plain": [
              "array([0, 1, 2, 3, 4, 5, 6, 7])"
            ]
          },
          "metadata": {},
          "execution_count": 37
        }
      ],
      "source": [
        "x[x < 7.4]"
      ]
    },
    {
      "cell_type": "markdown",
      "metadata": {
        "id": "x-ffP0YxLt7i"
      },
      "source": [
        "## Copies\n",
        "\n",
        "Many operations in numpy don't create copies, but operate with the same memory "
      ]
    },
    {
      "cell_type": "code",
      "execution_count": 38,
      "metadata": {
        "colab": {
          "base_uri": "https://localhost:8080/"
        },
        "id": "opKDojVNLt7j",
        "outputId": "66d79d72-540a-4719-b89a-9b6bd1014260"
      },
      "outputs": [
        {
          "output_type": "stream",
          "name": "stdout",
          "text": [
            "[0 1 2 3 4 5 6 7 8 9] [0 1 2 3 4]\n",
            "[10  1  2  3  4  5  6  7  8  9] [10  1  2  3  4]\n"
          ]
        }
      ],
      "source": [
        "x = numpy.arange(10)\n",
        "y = x[:5]\n",
        "\n",
        "print (x, y)\n",
        "y[0] = 10\n",
        "print (x, y)"
      ]
    },
    {
      "cell_type": "markdown",
      "metadata": {
        "id": "4tfk1gFgLt7k"
      },
      "source": [
        "this happened because x and y point __to the same place in memory__"
      ]
    },
    {
      "cell_type": "code",
      "execution_count": 39,
      "metadata": {
        "colab": {
          "base_uri": "https://localhost:8080/"
        },
        "id": "0uXbZOB_Lt7l",
        "outputId": "eb6b1b60-beb2-4bc0-c092-c3595944abfb"
      },
      "outputs": [
        {
          "output_type": "stream",
          "name": "stdout",
          "text": [
            "[0 1 2 3 4 5 6 7 8 9] [0 1 2 3 4]\n",
            "[0 1 2 3 4 5 6 7 8 9] [10  1  2  3  4]\n"
          ]
        }
      ],
      "source": [
        "x = numpy.arange(10)\n",
        "y = x[:5].copy()\n",
        "print (x, y)\n",
        "y[0] = 10\n",
        "print (x, y)"
      ]
    },
    {
      "cell_type": "markdown",
      "metadata": {
        "id": "4u6jGCbCLt7m"
      },
      "source": [
        "## Random numbers\n",
        "\n",
        "module `numpy.random` helps with generating random numbers"
      ]
    },
    {
      "cell_type": "code",
      "execution_count": 40,
      "metadata": {
        "colab": {
          "base_uri": "https://localhost:8080/"
        },
        "id": "1kKFXC5mLt7n",
        "outputId": "7f3887dd-4fe3-4fa1-dcd3-0f539ab98abf"
      },
      "outputs": [
        {
          "output_type": "execute_result",
          "data": {
            "text/plain": [
              "array([-20.89969022,   5.57937927,  -1.93837472, ...,  -6.76650755,\n",
              "        10.70382615,  -1.91988666])"
            ]
          },
          "metadata": {},
          "execution_count": 40
        }
      ],
      "source": [
        "# generating 10000 random numbers at once\n",
        "numpy.random.normal(loc=2, scale=12, size=10000)"
      ]
    },
    {
      "cell_type": "markdown",
      "metadata": {
        "id": "OZ-HCMwULt7o"
      },
      "source": [
        "## Sorting"
      ]
    },
    {
      "cell_type": "code",
      "execution_count": 41,
      "metadata": {
        "id": "yCur2yTLLt7p"
      },
      "outputs": [],
      "source": [
        "x = numpy.random.random(size=1000)\n",
        "x = numpy.sort(x)"
      ]
    },
    {
      "cell_type": "code",
      "execution_count": 42,
      "metadata": {
        "colab": {
          "base_uri": "https://localhost:8080/"
        },
        "id": "S9x5MMR9Lt7p",
        "outputId": "4b757caa-6e40-4edd-ef05-bb0fcba9252f"
      },
      "outputs": [
        {
          "output_type": "stream",
          "name": "stdout",
          "text": [
            "[0.00072198 0.00263484 0.00315437 0.00322942 0.00480214 0.0089279\n",
            " 0.00988581 0.00995463 0.01113102 0.01345223]\n",
            "[0.9892928  0.99357342 0.99497685 0.9950139  0.99507408 0.99635771\n",
            " 0.9969055  0.99738762 0.99956326 0.99981949]\n"
          ]
        }
      ],
      "source": [
        "print (x[:10])\n",
        "print (x[-10:])"
      ]
    },
    {
      "cell_type": "markdown",
      "metadata": {
        "id": "dY0Ygq6SLt7q"
      },
      "source": [
        "## Arg...\n",
        "\n",
        "arg-functions allow writing non-trivial operations with a couple of lines"
      ]
    },
    {
      "cell_type": "code",
      "execution_count": 43,
      "metadata": {
        "id": "_33JYghpLt7r"
      },
      "outputs": [],
      "source": [
        "# random.random generates uniform in [0, 1]\n",
        "random_numbers = numpy.random.random(size=1000)\n",
        "indices = numpy.argsort(random_numbers) #Returns the indices that would sort an array."
      ]
    },
    {
      "cell_type": "code",
      "execution_count": 44,
      "metadata": {
        "colab": {
          "base_uri": "https://localhost:8080/"
        },
        "id": "1ERRcY1jLt7s",
        "outputId": "6fa490cd-225d-4510-d0b3-cb69761b6721"
      },
      "outputs": [
        {
          "output_type": "execute_result",
          "data": {
            "text/plain": [
              "True"
            ]
          },
          "metadata": {},
          "execution_count": 44
        }
      ],
      "source": [
        "numpy.alltrue(random_numbers[indices] == numpy.sort(random_numbers)) #Test whether all array elements along a given axis evaluate to True."
      ]
    },
    {
      "cell_type": "code",
      "execution_count": 45,
      "metadata": {
        "colab": {
          "base_uri": "https://localhost:8080/"
        },
        "id": "EhDAKp5oLt7u",
        "outputId": "e2c432ca-e514-402e-c298-97f355c225b8"
      },
      "outputs": [
        {
          "output_type": "execute_result",
          "data": {
            "text/plain": [
              "array([963, 115, 500, 574, 430, 750, 454, 342, 101, 566])"
            ]
          },
          "metadata": {},
          "execution_count": 45
        }
      ],
      "source": [
        "indices[:10]"
      ]
    },
    {
      "cell_type": "code",
      "execution_count": 46,
      "metadata": {
        "colab": {
          "base_uri": "https://localhost:8080/"
        },
        "id": "eqe0XGegLt7v",
        "outputId": "d4079f6e-69b9-4268-ce6a-b6095bb4cb36"
      },
      "outputs": [
        {
          "output_type": "execute_result",
          "data": {
            "text/plain": [
              "(0.000742001773116785, 0.9998949185299909)"
            ]
          },
          "metadata": {},
          "execution_count": 46
        }
      ],
      "source": [
        "random_numbers.min(), random_numbers.max()"
      ]
    },
    {
      "cell_type": "code",
      "execution_count": 47,
      "metadata": {
        "colab": {
          "base_uri": "https://localhost:8080/"
        },
        "id": "nupfZ3p4Lt7w",
        "outputId": "be131dbf-c4e1-4325-9f1b-2549bd4f1a5a"
      },
      "outputs": [
        {
          "output_type": "execute_result",
          "data": {
            "text/plain": [
              "(484, 0.9998949185299909)"
            ]
          },
          "metadata": {},
          "execution_count": 47
        }
      ],
      "source": [
        "random_numbers.argmax(), random_numbers[random_numbers.argmax()]"
      ]
    },
    {
      "cell_type": "code",
      "execution_count": 48,
      "metadata": {
        "colab": {
          "base_uri": "https://localhost:8080/"
        },
        "id": "0Muwx3lZLt7x",
        "outputId": "ce221728-aac0-4140-ffbf-843e10a94966"
      },
      "outputs": [
        {
          "output_type": "execute_result",
          "data": {
            "text/plain": [
              "(963, 0.000742001773116785)"
            ]
          },
          "metadata": {},
          "execution_count": 48
        }
      ],
      "source": [
        "random_numbers.argmin(), random_numbers[random_numbers.argmin()]"
      ]
    },
    {
      "cell_type": "markdown",
      "metadata": {
        "id": "NK7n8r9ELt7y"
      },
      "source": [
        "## Homework 3"
      ]
    },
    {
      "cell_type": "code",
      "execution_count": 49,
      "metadata": {
        "id": "Uku3cNW4Lt7z"
      },
      "outputs": [],
      "source": [
        "import numpy\n"
      ]
    },
    {
      "cell_type": "code",
      "execution_count": 86,
      "metadata": {
        "colab": {
          "base_uri": "https://localhost:8080/"
        },
        "id": "FrCA8P0LLt70",
        "outputId": "65ee61ed-f1f5-4d97-c3ec-8b0c2258229b"
      },
      "outputs": [
        {
          "output_type": "execute_result",
          "data": {
            "text/plain": [
              "array([-1.35878328e+01, -3.29334768e+00,  1.47053920e+01, -2.28116586e+01,\n",
              "       -4.08786933e+00,  1.25959905e+01,  4.60716802e+00, -1.24095533e+00,\n",
              "        4.72564697e-01,  1.35779749e+01,  2.30048333e+01,  6.80574016e+00,\n",
              "        1.90241422e+01,  1.18966656e+01, -1.67280550e+00, -1.50787746e+01,\n",
              "       -2.81444886e+00, -4.83808262e+00,  5.49415612e+00,  2.69096719e+00,\n",
              "        2.45950193e+01,  4.68278984e-01, -4.46881070e+00,  1.74992061e+00,\n",
              "       -8.04263666e+00,  8.31434605e+00, -1.36053585e+00,  7.33284113e+00,\n",
              "       -1.18069646e+01,  2.18632298e+01,  3.78622537e+00,  5.38128165e+00,\n",
              "       -8.46181170e+00, -2.58272685e+00, -2.11936499e+00, -4.15814004e+00,\n",
              "       -2.10204074e-02,  7.68070517e+00,  1.77366913e+01, -1.04385275e+01,\n",
              "       -3.89619546e+00,  1.22944224e+00, -1.43310899e+01,  1.59458952e+01,\n",
              "        5.23954904e+00, -1.54425992e+01,  1.10874717e+01,  1.31046825e+01,\n",
              "        3.49822978e+00,  9.03201992e+00, -1.45124158e+01, -5.07080336e+00,\n",
              "        6.64625409e+00,  1.77279810e+01, -6.49572040e+00,  4.50881008e+00,\n",
              "        4.26210965e+00, -6.02311188e+00,  2.98535132e+00,  1.30667369e+01,\n",
              "       -5.12520295e-01,  4.82730556e+00,  1.39501279e+01, -1.18755270e+01,\n",
              "        2.67368450e-01,  9.47849765e+00,  5.91616523e+00,  5.85432432e+00,\n",
              "        1.63296381e+00,  3.87282610e+00,  1.14880825e+01, -1.81236623e+00,\n",
              "       -5.76189072e+00, -1.05669596e+01,  1.21883847e+01,  2.17863766e+00,\n",
              "        1.90202502e+01, -4.52026101e+00,  1.16044880e+01,  3.76235807e+00,\n",
              "        4.72595350e+00, -1.73921543e+00,  7.50773768e+00, -9.93339318e+00,\n",
              "       -2.92326614e+00,  4.67508663e+00,  2.30492453e+01,  1.06211822e+01,\n",
              "        6.30345502e+00,  3.29951521e+00,  2.15542980e-02, -7.05083672e+00,\n",
              "       -2.91416019e+00,  1.70707229e+01, -1.01147841e+01,  3.28668054e+01,\n",
              "       -2.54566927e+01,  8.59896715e+00,  4.98986772e+00,  1.25164358e+01,\n",
              "       -1.27295735e+01,  1.44158269e+00,  1.20146456e+01, -6.57519952e+00,\n",
              "       -3.19121182e+00, -7.83561511e+00,  7.85274131e+00,  1.11650798e+01,\n",
              "        4.76009838e+00,  2.46128467e+01, -8.06834384e+00,  1.33411801e+01,\n",
              "       -1.91610329e+01, -4.73271897e+00,  6.20203662e+00,  1.70334527e+01,\n",
              "        1.63126034e+01,  1.36782952e+00,  8.50962276e+00,  7.62213514e-01,\n",
              "        3.01221390e+01,  2.20445895e+01,  1.30813846e+01, -1.45129526e+01,\n",
              "       -1.15711807e+01, -4.94262482e+00,  3.31474336e+00,  6.13919531e+00,\n",
              "        9.64589160e+00,  1.67008671e+00, -6.51443406e+00, -8.68265320e+00,\n",
              "        2.02949022e+01,  1.51775212e+01,  1.35078804e+01,  9.44289687e+00,\n",
              "        9.16576293e+00,  7.07804184e+00,  3.76445820e+01,  1.45325127e+00,\n",
              "        2.26604807e+01,  4.95211716e+00,  1.33786524e+00,  8.57083281e+00,\n",
              "       -1.45338331e+01, -2.98134157e+00, -6.32533108e+00, -1.06926840e+00,\n",
              "        7.07913942e+00, -1.73461669e+01, -1.36759242e+01, -9.78105140e-01,\n",
              "       -4.92617145e+00, -1.31754019e+01,  1.12974010e+01,  1.59966262e+01,\n",
              "        8.66992801e+00, -8.98382238e-01,  4.10577023e+01,  2.17859793e+00,\n",
              "        1.40371613e+00, -1.25820928e+01, -2.55464477e+01, -1.11237970e+01,\n",
              "       -9.93286226e+00,  4.86194542e+00, -6.97676938e+00,  3.09950149e+00,\n",
              "       -8.03808384e+00, -1.44678979e+01, -6.23310099e+00,  3.43671744e+00,\n",
              "       -1.53383462e-01,  6.19124144e+00,  1.75216813e+01,  1.51837183e+01,\n",
              "        3.18830501e+00,  3.74819084e+00, -1.51567568e+01,  4.88484120e+00,\n",
              "       -8.51962958e+00,  1.49463410e+01, -7.22863467e+00,  1.68481195e+00,\n",
              "        9.79409447e-01, -2.26924099e+00,  5.28222181e+00, -3.75617423e+00,\n",
              "        1.07530547e+00,  8.16962169e-02, -1.61865137e+01,  5.56549624e+00,\n",
              "        3.12305689e+00,  1.84492961e+00, -1.33252266e+01,  1.94973279e+01,\n",
              "        1.21486725e+01,  1.08209482e+01, -1.19783032e+01, -7.12171564e+00,\n",
              "        1.81216219e+01, -2.08418700e+00, -1.19281234e+01,  3.57810331e+00,\n",
              "       -3.83074713e+00,  8.02687964e+00,  2.73229342e+00,  1.20847836e+01,\n",
              "        3.06369527e+00,  1.40857866e+01, -1.36233073e+01, -3.78930540e+00,\n",
              "        1.07380276e+01,  5.16599228e+00,  6.69468741e+00, -3.64211580e+00,\n",
              "        1.83214978e-01, -1.01069076e+01,  1.68042378e+01,  3.44988877e-01,\n",
              "        1.34809793e+01,  8.50153436e+00, -2.14006284e+00, -4.94108029e+00,\n",
              "       -1.02309620e+01, -2.10071331e-01, -1.85959452e+01, -5.95133393e+00,\n",
              "       -1.91847581e+01, -6.28005016e+00,  6.25348817e+00,  7.03238443e+00,\n",
              "       -5.56595477e+00,  1.88084168e+00,  1.52138525e+01,  6.87344752e+00,\n",
              "        9.15377079e+00, -1.49447428e+01,  2.13993969e+01, -2.42512580e+01,\n",
              "       -8.24943003e+00, -1.51488452e+01, -1.13108046e+01,  1.71185835e+01,\n",
              "        4.09173119e+00,  3.62848079e+00,  3.15596145e+00, -7.61706571e+00,\n",
              "        6.16063379e+00,  8.00574028e+00,  9.51248359e+00,  9.41201366e+00,\n",
              "        9.83340559e+00,  6.82653489e-01, -1.40866025e+01,  1.13591187e+01,\n",
              "        3.56667493e+01,  3.61338826e+00,  1.19649135e+00,  3.21931125e+00,\n",
              "       -1.54378989e+01, -6.81213249e+00,  1.15802357e+01,  3.09318481e+00,\n",
              "        1.07899372e+01,  2.44025981e+00,  1.67396572e+01,  8.12296894e-01,\n",
              "        2.33323193e+01, -8.59111017e-01,  2.64614841e+01,  1.07158049e+01,\n",
              "        2.02799927e+01, -1.14301163e+01, -7.57969752e+00,  2.02111411e+01,\n",
              "       -8.07790398e-01, -1.12412954e+01,  1.62050175e+01, -1.21761448e+01,\n",
              "       -1.06609083e+01,  7.11378956e+00,  6.88321629e+00, -3.69050772e+00,\n",
              "       -3.98430953e+00,  1.23353868e+01,  2.48024015e+01, -2.57431408e+00,\n",
              "        4.34027852e+00, -2.49771346e+01,  1.25214189e+01, -6.56802279e+00,\n",
              "        5.29734469e+00, -1.19801110e+01, -1.98780921e+00,  2.26390639e+00,\n",
              "       -2.69988130e-01,  1.09379484e+01, -3.13255580e+01,  6.64989996e+00,\n",
              "        1.74003933e+00, -8.69999023e+00,  1.63547277e+01, -6.78743849e+00,\n",
              "        1.73051225e+01,  2.42635642e+00,  9.02555123e+00,  3.07696795e-01,\n",
              "       -1.84987892e+00,  5.14496546e+00,  8.19271205e-01,  2.90377778e+01,\n",
              "        1.71806729e+01,  1.05660837e+01,  1.03581306e+01, -5.21465737e+00,\n",
              "        5.16555120e+00,  1.00903257e+00, -5.36472492e+00,  8.46738115e-01,\n",
              "       -9.44957994e+00, -2.10853747e+01, -4.88416965e+00,  1.21954170e+00,\n",
              "       -8.74513642e+00,  2.21216614e+01, -4.96457251e+00, -2.73680990e+00,\n",
              "        6.55911250e+00,  1.99784630e-01,  1.53014873e+01, -1.61197471e+01,\n",
              "        7.17624923e+00, -1.94588976e+01, -2.86957298e+00, -3.02057311e-01,\n",
              "       -7.81404456e+00, -1.53729097e+01,  9.59943020e+00, -1.23273194e+01,\n",
              "        8.74270290e+00,  1.78620878e+01,  1.90962949e+00,  5.52074953e+00,\n",
              "        9.55631474e+00, -2.50331233e+00,  6.36007531e+00,  2.93701608e+00,\n",
              "        1.86178817e+00,  4.48549079e+00, -3.40248467e+00, -2.72891419e+00,\n",
              "       -7.36898986e+00,  1.11647340e+01, -8.96174668e+00, -8.93606569e+00,\n",
              "        1.81488075e+01, -1.67295848e+01, -5.76162632e+00,  2.47448818e+01,\n",
              "       -2.46461945e+00,  1.09725153e+01,  2.60924852e+01,  1.14004856e+01,\n",
              "       -1.19097859e+01,  1.72872935e+01,  7.42436019e+00,  7.79170174e+00,\n",
              "        1.12038795e+01,  1.37593451e+00, -1.92593703e+00, -1.93316976e+01,\n",
              "        9.89265636e+00,  3.07045949e+01,  1.11822086e+01,  5.61299279e+00,\n",
              "       -6.38151155e+00,  1.84527571e+01, -1.45802989e+01, -2.24349532e+00,\n",
              "       -3.28432403e+00, -4.93522978e+00, -2.08036266e+00, -1.55373844e+01,\n",
              "       -1.53406138e+01,  1.33202688e+01,  1.56548908e+00,  1.05110078e+01,\n",
              "       -6.13736250e+00,  2.02467727e+00, -3.78658629e+00,  1.80799067e+01,\n",
              "        1.51450988e+01, -9.49550294e-02, -1.56817131e+01, -4.71695265e+00,\n",
              "        1.00327394e+01,  7.76096439e+00,  7.95141053e+00, -8.94499434e+00,\n",
              "        1.23091548e+00,  8.03318370e+00, -1.42978268e+01, -1.37648548e+01,\n",
              "        1.22992826e+01,  4.14142021e+01,  6.81207067e-01, -2.20890622e+01,\n",
              "       -1.58709107e-02, -2.26590141e+01,  5.01371537e+00,  2.94149208e+01,\n",
              "        2.10128953e+01, -1.08891505e+00, -1.39753952e+01,  1.32650512e+01,\n",
              "        6.15711514e+00,  7.19107822e+00, -1.27157378e+01,  2.97575092e+00,\n",
              "        3.50892512e+00,  2.58483963e+00,  2.12235258e+01, -1.80992687e+00,\n",
              "        5.42831017e-01, -1.61166993e+01, -2.59409261e+00, -2.43973943e+01,\n",
              "       -1.35353111e+01, -1.82631397e+01, -1.01897630e+00,  1.13288412e+01,\n",
              "       -2.33906124e+00,  6.63040004e+00, -4.15788716e+00,  9.09398442e+00,\n",
              "       -8.90526622e+00,  1.27905090e+01,  1.10079904e+01,  8.28684867e+00,\n",
              "        2.13690503e+01, -8.94313312e+00,  1.68658844e+01, -4.55038220e-01,\n",
              "        1.89963547e+01, -7.66478962e+00,  1.81275683e+01,  2.56295723e+00,\n",
              "        5.89251612e-02, -8.64314010e+00,  9.51985015e+00, -1.74243795e+00,\n",
              "        1.80009784e+01,  1.94255381e+00,  2.12683698e+00, -1.31360742e+01,\n",
              "        5.14736306e+00, -1.75126065e+01,  4.93646767e-01, -1.24350011e+00,\n",
              "       -1.19995858e+01, -1.04544357e+01, -1.48931385e+01,  7.94151161e+00,\n",
              "        9.24103071e+00, -7.41776057e+00,  4.78563137e+00,  1.43107715e+01,\n",
              "       -3.75132930e+00,  6.46523677e+00, -1.34705643e+01,  1.54221222e+01,\n",
              "       -3.79412983e+00, -9.69325329e+00, -1.30060076e+01, -4.21476813e+00,\n",
              "        1.88546328e+01,  1.38315881e+01,  4.30126811e+00, -4.41787923e+00,\n",
              "       -1.98651472e+01,  2.27499145e+01,  3.14885262e+00,  1.67777457e+01,\n",
              "       -3.53815475e+01, -8.18015921e+00, -2.28706614e+01, -1.52202504e+01,\n",
              "        1.18709353e+01,  2.32457534e+01,  4.81626852e+00, -3.57525611e-01,\n",
              "       -4.85836152e+00, -1.16990102e+01,  2.06392690e+00,  1.55889961e+01,\n",
              "       -6.42032435e+00,  3.44096751e+00, -1.63999345e+01,  1.79683611e+00,\n",
              "       -1.58785815e+01, -2.18306258e+01,  3.93862564e-01, -1.23405792e+01,\n",
              "        3.46415500e+00,  1.76718573e+01,  1.66854938e+01,  1.91246961e+01,\n",
              "        1.43049625e+01, -7.14581764e+00,  1.18565074e+01, -1.09381794e+01,\n",
              "        1.65036562e+01,  1.15825927e+01,  4.87164351e+00,  5.27036479e+00,\n",
              "        5.43616665e+00,  1.43174219e+01,  6.64810710e+00, -1.52677928e+00,\n",
              "        5.46692689e+00,  9.47149903e+00,  1.54878633e+01,  1.25814546e+01,\n",
              "        6.99500136e+00, -4.03678394e+01,  8.60875325e+00,  9.72009446e+00,\n",
              "       -1.31846461e+01,  8.58908523e+00,  4.51579598e+00,  2.00606434e+00,\n",
              "       -1.36612055e+01,  8.62602960e-01,  5.11438503e+00,  3.69701705e+00,\n",
              "       -4.29448733e+00,  4.93202869e+00,  9.13951605e+00, -9.55636494e+00,\n",
              "        9.15606457e+00,  7.59629173e+00,  3.26497750e+01,  2.46863644e+00,\n",
              "        4.08331406e+00,  1.11599298e+01,  1.10450802e+01, -1.68572096e+01,\n",
              "        4.79171999e+00,  6.37132874e+00, -8.63887295e+00,  1.05631196e+01,\n",
              "        8.61737175e+00,  4.54303702e+00,  6.03290100e+00,  1.09550158e+01,\n",
              "       -5.33868211e-01,  2.59057281e+01,  2.06194758e+01, -2.58715437e+00,\n",
              "        1.19763569e+01, -9.45864348e+00, -1.59660595e+00,  2.05941587e+01,\n",
              "       -6.14494723e+00,  8.42824900e-01,  8.28596258e+00, -1.87477327e+01,\n",
              "        3.04760514e+00, -1.97930920e+01, -3.54053814e-01, -1.37745413e+01,\n",
              "       -1.00919123e+01,  3.91154691e+00, -4.76882152e+00, -6.72209016e+00,\n",
              "        7.15348866e+00, -8.08534109e+00,  1.33694438e-01,  1.83149048e+01,\n",
              "       -1.32318469e+01, -4.26289059e+00,  3.09314226e+00, -5.67539902e+00,\n",
              "       -8.28174761e+00, -5.93433414e+00,  8.52601298e+00,  2.23414784e+01,\n",
              "       -1.04058161e+01,  6.00039062e+00, -1.93910308e+01,  9.58028140e+00,\n",
              "        1.34351272e+01,  9.72844721e+00, -3.94401108e+00,  1.89666105e+01,\n",
              "        1.02890388e+01,  1.61133892e+01, -4.37850768e-01, -6.14538900e+00,\n",
              "       -4.76149805e+00,  1.15663253e+01,  1.07276691e+00, -2.05594530e+00,\n",
              "        2.77817197e+00,  1.68525770e+01,  9.01735350e+00,  1.66066344e+01,\n",
              "        1.43594848e+01, -5.45926460e+00,  3.19277847e+00,  7.19848539e+00,\n",
              "        3.12495333e+01, -6.71840913e+00,  1.41368634e+01,  9.17006381e-01,\n",
              "        1.60239195e+01, -1.47812786e+01, -7.30958019e+00,  2.16655767e+01,\n",
              "        2.08526731e+01,  1.62124500e+01, -1.62574866e+01,  9.75886426e+00,\n",
              "        2.52502656e+00, -9.25196587e+00, -8.33562098e+00,  1.65073349e+01,\n",
              "       -1.39283858e+01,  5.10912411e-01, -1.10074949e+01,  2.35474107e+00,\n",
              "        7.01979875e+00,  2.67949394e+01, -4.66814050e+00,  1.15789329e+01,\n",
              "       -3.52462441e+00, -7.16802820e+00, -2.20882942e+01, -4.17964846e+00,\n",
              "        4.34856063e+00, -2.22595854e+00, -1.58473392e+00,  1.01371379e+01,\n",
              "       -8.26800611e-01,  5.00911620e+00,  4.43167686e+00, -6.80318306e+00,\n",
              "       -2.37132827e+00, -5.45943964e+00,  2.44623931e+01, -1.52887720e+01,\n",
              "       -1.71721981e+01,  7.10954127e+00,  1.35237644e+01, -1.00036448e+01,\n",
              "        2.40911698e+01,  2.08884973e+01, -4.25742248e+00, -3.80808609e+00,\n",
              "        1.40293601e+01, -1.85509955e+01, -1.54723465e+01, -5.78475818e-01,\n",
              "        2.31909361e+01,  1.73995206e+01,  1.96154636e+01, -5.54010303e+00,\n",
              "       -2.33875981e+01, -2.18652297e+00, -1.77775219e+01,  8.81001904e+00,\n",
              "       -1.10429547e+01, -9.63366919e+00,  1.00748151e+01, -1.42905408e+01,\n",
              "       -3.76804964e+00, -2.77026876e+00, -1.73038680e+01,  4.46519613e+00,\n",
              "        1.36197133e+01, -1.77387562e+01,  3.40010113e+00,  1.39521313e+01,\n",
              "        3.53487086e+00,  2.90222993e+01,  1.23142213e+01, -3.58061957e+00,\n",
              "        1.72601155e+00, -1.61423748e+01,  8.51786588e+00,  1.24633109e+00,\n",
              "        1.64314540e+01,  4.57992389e+00,  1.50287063e+01,  3.74709188e+00,\n",
              "        2.38547185e+01,  5.63147417e+00,  3.91547418e+00,  1.37387499e+00,\n",
              "       -7.96764011e+00,  4.71293402e+00,  1.62912085e+00,  1.12619682e+01,\n",
              "        2.12264908e+00,  9.37357918e+00,  9.14979078e+00, -1.68357390e+01,\n",
              "       -2.59744086e+01,  1.54324992e+01, -5.53735172e+00,  7.26323179e+00,\n",
              "       -1.49567427e+00, -7.89032751e+00, -1.26897589e+01, -2.17849437e-01,\n",
              "       -4.10090876e+00,  2.97929798e+00, -5.99391703e+00,  3.21403677e+00,\n",
              "        8.77731340e+00,  1.52418310e+01,  4.35520146e+00,  9.49165164e+00,\n",
              "        4.71327255e+00,  4.13949683e+00, -1.30380088e+01,  4.60819849e+00,\n",
              "        3.19545414e+00, -1.25219189e+01, -1.73415737e+01, -4.25605062e-01,\n",
              "       -7.36222536e+00,  9.70466490e+00, -1.77565771e+00,  1.31074506e+01,\n",
              "        1.55109881e+01,  9.51511708e-01, -2.85379564e+00,  4.43648358e+00,\n",
              "       -5.43889003e+00,  8.99564018e+00, -3.07399439e+00, -5.99921433e+00,\n",
              "        2.25602665e+01,  9.19525829e+00,  6.89629410e+00,  9.11225048e+00,\n",
              "       -9.85916022e+00, -8.22885084e+00, -2.98268669e+00,  7.65026145e+00,\n",
              "       -7.85992998e-01,  6.13280457e+00,  1.17044539e+01,  1.93526900e+01,\n",
              "        2.12787226e+01,  6.80092797e+00,  3.33224925e+00, -2.97716732e+00,\n",
              "        6.52108175e-01,  1.16628403e+01,  9.50786559e+00,  1.66467652e+01,\n",
              "        4.12444951e-01,  1.88064472e+01, -6.53640317e+00,  6.14529784e+00,\n",
              "       -2.16193260e+01,  4.59875908e+00,  1.18290873e+01,  1.13037290e+01,\n",
              "        6.12229673e+00,  1.65788336e+01,  3.09709273e+00,  1.28344021e+01,\n",
              "        1.34516140e+01, -4.93206230e+00,  2.65660704e+01,  5.18537058e+00,\n",
              "        2.60521007e+00,  8.40558668e+00,  1.10605433e+00,  1.66331904e+01,\n",
              "        1.26365718e+01, -7.69597569e+00,  8.62505976e-01,  6.51628433e+00,\n",
              "        3.78802198e+00,  9.85149626e+00,  3.66108941e+00,  1.95888806e+01,\n",
              "       -1.40215491e+01,  8.92821401e-01,  5.89816774e+00,  2.15845927e+01,\n",
              "       -1.39145755e+01,  7.25078072e+00, -1.04238657e+01, -1.31284989e+01,\n",
              "        1.20993864e+00, -1.38973032e+00,  2.52480262e+00,  8.27871524e+00,\n",
              "        1.55071057e+01, -1.98616084e+01, -8.79019296e+00,  2.76268472e+00,\n",
              "       -2.61988705e+01,  1.81604877e+00,  3.23273771e+00,  1.32170309e+01,\n",
              "        1.12196503e+01,  2.75152634e+01, -1.38143978e+01, -8.08507874e+00,\n",
              "       -8.56619376e+00,  1.96002960e+01, -9.06742722e+00,  3.37998126e+01,\n",
              "        8.58158116e+00, -4.50375167e+00,  1.49390197e+01,  5.13349289e+00,\n",
              "        8.37118016e+00, -3.48768737e+00,  4.95324984e+00,  7.48134541e+00,\n",
              "        1.08266958e+01, -1.96221822e+01, -3.77552732e+01,  1.76317364e+00,\n",
              "        2.08736342e+01,  1.56146144e+01,  1.44478909e+01,  5.88736644e+00,\n",
              "       -9.69340534e-01,  1.42677640e+01,  6.10363428e+00,  8.57960335e+00,\n",
              "        1.49492307e+01, -5.73587229e-01,  1.07034665e+01, -4.13407736e+00,\n",
              "        1.19011301e+01, -1.84989613e+01,  6.69364681e+00, -8.64185088e+00,\n",
              "       -2.12052899e+01,  1.32118224e+01,  2.38574351e+01, -7.49940219e+00,\n",
              "        6.09286850e+00,  5.07497042e+00,  7.53366318e+00,  2.74502662e+01,\n",
              "       -3.23627054e+00,  3.08020855e+00, -6.47896599e+00, -3.58863434e+00,\n",
              "       -3.25608340e+00, -1.57177128e+01,  2.93596138e+01,  1.94869960e+01,\n",
              "        1.28008308e+01,  4.49334065e-01, -1.02199891e+01,  1.16813632e+01,\n",
              "        1.09469202e+01,  2.20777996e+01,  5.73627296e+00, -1.04532739e+01,\n",
              "        3.09015524e+00, -9.55035744e+00, -1.73356274e+01,  1.13241594e+00,\n",
              "        7.96664250e+00, -1.85184490e+01,  1.66567576e+01,  5.84103457e+00,\n",
              "       -2.16985634e+00, -4.01635420e+00,  5.23784444e+00,  1.53455240e+01,\n",
              "        4.02436915e+01,  3.91224876e+01,  1.36388792e+00,  1.12584903e+01,\n",
              "       -5.50430475e+00,  1.88432462e+01, -1.31458780e+01, -1.54779586e+01,\n",
              "       -1.26491251e+01,  2.04119261e+01,  5.05614587e+00, -2.95783485e+01,\n",
              "        2.79889284e+01, -1.82049071e+01,  1.24071975e+01,  7.48598419e+00,\n",
              "       -1.65039016e+01,  1.32067425e+01, -8.97241882e+00, -2.39261745e+00,\n",
              "       -1.61566811e+00,  2.74426924e+00, -2.24865970e+00,  5.85235053e+00,\n",
              "       -1.66755826e+01, -5.06925849e+00, -1.77463152e+00,  6.56624072e+00,\n",
              "       -2.23669360e+01, -1.57265222e+01,  1.18480795e+01,  4.26732148e-01,\n",
              "        3.39561581e+00, -1.05877973e+01,  3.83766961e+01,  1.17890577e+01,\n",
              "       -8.88429159e-01, -9.81602390e+00,  3.34735230e+01,  1.51968081e+01,\n",
              "        1.14133240e+01,  1.46086279e+01,  6.20215909e+00, -3.77992294e+00,\n",
              "        5.82817616e+00,  2.25419900e+01, -1.91957920e+00,  1.57417121e+01,\n",
              "       -6.13917359e+00, -6.59934691e+00, -9.85765016e+00, -5.43211848e-01,\n",
              "        9.24822228e-01,  2.94175523e+01,  6.47490232e+00, -1.64147543e+00,\n",
              "        1.12539240e+01,  2.05479153e+01,  1.78775407e+01, -1.03431347e+01,\n",
              "        1.57925589e+01,  4.98651463e+00,  2.41573325e+00, -2.73678090e+01,\n",
              "       -4.91285722e-01, -6.66095802e+00, -5.13067506e+00,  1.20692958e+01,\n",
              "        1.54893805e+01,  1.85764443e+01,  8.04436962e+00, -6.15421193e+00,\n",
              "        1.80860450e+01,  4.16012654e+00, -9.82747694e+00,  5.54544857e+00,\n",
              "        1.85412136e+01, -1.40826644e+01, -6.68971828e+00, -7.11126855e+00,\n",
              "       -4.68499717e+00,  1.55019246e+01, -1.17659336e+01, -2.52032497e+01,\n",
              "        7.73838838e+00,  9.12266516e-01,  1.41820583e+01,  1.18240525e+01,\n",
              "       -2.25825052e+01, -1.45390718e+01, -1.57239944e+00,  1.06496173e+01,\n",
              "       -5.92947146e+00,  3.40721909e+01,  1.65356087e+01, -2.61687888e+00,\n",
              "       -1.48035642e+01,  3.92678004e+00,  3.67163186e+00,  4.32863407e+00,\n",
              "        2.10884066e+00,  2.55132388e+00,  6.64435189e+00,  1.91730193e+01,\n",
              "        1.16702151e+00, -7.59145067e+00, -1.25736411e+00, -2.50406273e+00,\n",
              "        1.23007158e+01,  1.56201958e+01, -2.70395859e+01,  1.12223557e+01,\n",
              "        1.40920542e+00, -8.91732014e+00,  8.32560576e+00,  1.44634338e+01])"
            ]
          },
          "metadata": {},
          "execution_count": 86
        }
      ],
      "source": [
        "x = numpy.random.normal(loc=2, scale=12, size=1000)\n",
        "x"
      ]
    },
    {
      "cell_type": "code",
      "execution_count": 90,
      "metadata": {
        "colab": {
          "base_uri": "https://localhost:8080/"
        },
        "id": "bcim4K3pLt70",
        "outputId": "c8e66a65-5add-4d88-a118-339b1b376e7c"
      },
      "outputs": [
        {
          "output_type": "execute_result",
          "data": {
            "text/plain": [
              "array([1.47053920e+01, 1.25959905e+01, 4.60716802e+00, 4.72564697e-01,\n",
              "       1.35779749e+01, 2.30048333e+01, 6.80574016e+00, 1.90241422e+01,\n",
              "       1.18966656e+01, 5.49415612e+00, 2.69096719e+00, 2.45950193e+01,\n",
              "       4.68278984e-01, 1.74992061e+00, 8.31434605e+00, 7.33284113e+00,\n",
              "       2.18632298e+01, 3.78622537e+00, 5.38128165e+00, 7.68070517e+00,\n",
              "       1.77366913e+01, 1.22944224e+00, 1.59458952e+01, 5.23954904e+00,\n",
              "       1.10874717e+01, 1.31046825e+01, 3.49822978e+00, 9.03201992e+00,\n",
              "       6.64625409e+00, 1.77279810e+01, 4.50881008e+00, 4.26210965e+00,\n",
              "       2.98535132e+00, 1.30667369e+01, 4.82730556e+00, 1.39501279e+01,\n",
              "       2.67368450e-01, 9.47849765e+00, 5.91616523e+00, 5.85432432e+00,\n",
              "       1.63296381e+00, 3.87282610e+00, 1.14880825e+01, 1.21883847e+01,\n",
              "       2.17863766e+00, 1.90202502e+01, 1.16044880e+01, 3.76235807e+00,\n",
              "       4.72595350e+00, 7.50773768e+00, 4.67508663e+00, 2.30492453e+01,\n",
              "       1.06211822e+01, 6.30345502e+00, 3.29951521e+00, 2.15542980e-02,\n",
              "       1.70707229e+01, 3.28668054e+01, 8.59896715e+00, 4.98986772e+00,\n",
              "       1.25164358e+01, 1.44158269e+00, 1.20146456e+01, 7.85274131e+00,\n",
              "       1.11650798e+01, 4.76009838e+00, 2.46128467e+01, 1.33411801e+01,\n",
              "       6.20203662e+00, 1.70334527e+01, 1.63126034e+01, 1.36782952e+00,\n",
              "       8.50962276e+00, 7.62213514e-01, 3.01221390e+01, 2.20445895e+01,\n",
              "       1.30813846e+01, 3.31474336e+00, 6.13919531e+00, 9.64589160e+00,\n",
              "       1.67008671e+00, 2.02949022e+01, 1.51775212e+01, 1.35078804e+01,\n",
              "       9.44289687e+00, 9.16576293e+00, 7.07804184e+00, 3.76445820e+01,\n",
              "       1.45325127e+00, 2.26604807e+01, 4.95211716e+00, 1.33786524e+00,\n",
              "       8.57083281e+00, 7.07913942e+00, 1.12974010e+01, 1.59966262e+01,\n",
              "       8.66992801e+00, 4.10577023e+01, 2.17859793e+00, 1.40371613e+00,\n",
              "       4.86194542e+00, 3.09950149e+00, 3.43671744e+00, 6.19124144e+00,\n",
              "       1.75216813e+01, 1.51837183e+01, 3.18830501e+00, 3.74819084e+00,\n",
              "       4.88484120e+00, 1.49463410e+01, 1.68481195e+00, 9.79409447e-01,\n",
              "       5.28222181e+00, 1.07530547e+00, 8.16962169e-02, 5.56549624e+00,\n",
              "       3.12305689e+00, 1.84492961e+00, 1.94973279e+01, 1.21486725e+01,\n",
              "       1.08209482e+01, 1.81216219e+01, 3.57810331e+00, 8.02687964e+00,\n",
              "       2.73229342e+00, 1.20847836e+01, 3.06369527e+00, 1.40857866e+01,\n",
              "       1.07380276e+01, 5.16599228e+00, 6.69468741e+00, 1.83214978e-01,\n",
              "       1.68042378e+01, 3.44988877e-01, 1.34809793e+01, 8.50153436e+00,\n",
              "       6.25348817e+00, 7.03238443e+00, 1.88084168e+00, 1.52138525e+01,\n",
              "       6.87344752e+00, 9.15377079e+00, 2.13993969e+01, 1.71185835e+01,\n",
              "       4.09173119e+00, 3.62848079e+00, 3.15596145e+00, 6.16063379e+00,\n",
              "       8.00574028e+00, 9.51248359e+00, 9.41201366e+00, 9.83340559e+00,\n",
              "       6.82653489e-01, 1.13591187e+01, 3.56667493e+01, 3.61338826e+00,\n",
              "       1.19649135e+00, 3.21931125e+00, 1.15802357e+01, 3.09318481e+00,\n",
              "       1.07899372e+01, 2.44025981e+00, 1.67396572e+01, 8.12296894e-01,\n",
              "       2.33323193e+01, 2.64614841e+01, 1.07158049e+01, 2.02799927e+01,\n",
              "       2.02111411e+01, 1.62050175e+01, 7.11378956e+00, 6.88321629e+00,\n",
              "       1.23353868e+01, 2.48024015e+01, 4.34027852e+00, 1.25214189e+01,\n",
              "       5.29734469e+00, 2.26390639e+00, 1.09379484e+01, 6.64989996e+00,\n",
              "       1.74003933e+00, 1.63547277e+01, 1.73051225e+01, 2.42635642e+00,\n",
              "       9.02555123e+00, 3.07696795e-01, 5.14496546e+00, 8.19271205e-01,\n",
              "       2.90377778e+01, 1.71806729e+01, 1.05660837e+01, 1.03581306e+01,\n",
              "       5.16555120e+00, 1.00903257e+00, 8.46738115e-01, 1.21954170e+00,\n",
              "       2.21216614e+01, 6.55911250e+00, 1.99784630e-01, 1.53014873e+01,\n",
              "       7.17624923e+00, 9.59943020e+00, 8.74270290e+00, 1.78620878e+01,\n",
              "       1.90962949e+00, 5.52074953e+00, 9.55631474e+00, 6.36007531e+00,\n",
              "       2.93701608e+00, 1.86178817e+00, 4.48549079e+00, 1.11647340e+01,\n",
              "       1.81488075e+01, 2.47448818e+01, 1.09725153e+01, 2.60924852e+01,\n",
              "       1.14004856e+01, 1.72872935e+01, 7.42436019e+00, 7.79170174e+00,\n",
              "       1.12038795e+01, 1.37593451e+00, 9.89265636e+00, 3.07045949e+01,\n",
              "       1.11822086e+01, 5.61299279e+00, 1.84527571e+01, 1.33202688e+01,\n",
              "       1.56548908e+00, 1.05110078e+01, 2.02467727e+00, 1.80799067e+01,\n",
              "       1.51450988e+01, 1.00327394e+01, 7.76096439e+00, 7.95141053e+00,\n",
              "       1.23091548e+00, 8.03318370e+00, 1.22992826e+01, 4.14142021e+01,\n",
              "       6.81207067e-01, 5.01371537e+00, 2.94149208e+01, 2.10128953e+01,\n",
              "       1.32650512e+01, 6.15711514e+00, 7.19107822e+00, 2.97575092e+00,\n",
              "       3.50892512e+00, 2.58483963e+00, 2.12235258e+01, 5.42831017e-01,\n",
              "       1.13288412e+01, 6.63040004e+00, 9.09398442e+00, 1.27905090e+01,\n",
              "       1.10079904e+01, 8.28684867e+00, 2.13690503e+01, 1.68658844e+01,\n",
              "       1.89963547e+01, 1.81275683e+01, 2.56295723e+00, 5.89251612e-02,\n",
              "       9.51985015e+00, 1.80009784e+01, 1.94255381e+00, 2.12683698e+00,\n",
              "       5.14736306e+00, 4.93646767e-01, 7.94151161e+00, 9.24103071e+00,\n",
              "       4.78563137e+00, 1.43107715e+01, 6.46523677e+00, 1.54221222e+01,\n",
              "       1.88546328e+01, 1.38315881e+01, 4.30126811e+00, 2.27499145e+01,\n",
              "       3.14885262e+00, 1.67777457e+01, 1.18709353e+01, 2.32457534e+01,\n",
              "       4.81626852e+00, 2.06392690e+00, 1.55889961e+01, 3.44096751e+00,\n",
              "       1.79683611e+00, 3.93862564e-01, 3.46415500e+00, 1.76718573e+01,\n",
              "       1.66854938e+01, 1.91246961e+01, 1.43049625e+01, 1.18565074e+01,\n",
              "       1.65036562e+01, 1.15825927e+01, 4.87164351e+00, 5.27036479e+00,\n",
              "       5.43616665e+00, 1.43174219e+01, 6.64810710e+00, 5.46692689e+00,\n",
              "       9.47149903e+00, 1.54878633e+01, 1.25814546e+01, 6.99500136e+00,\n",
              "       8.60875325e+00, 9.72009446e+00, 8.58908523e+00, 4.51579598e+00,\n",
              "       2.00606434e+00, 8.62602960e-01, 5.11438503e+00, 3.69701705e+00,\n",
              "       4.93202869e+00, 9.13951605e+00, 9.15606457e+00, 7.59629173e+00,\n",
              "       3.26497750e+01, 2.46863644e+00, 4.08331406e+00, 1.11599298e+01,\n",
              "       1.10450802e+01, 4.79171999e+00, 6.37132874e+00, 1.05631196e+01,\n",
              "       8.61737175e+00, 4.54303702e+00, 6.03290100e+00, 1.09550158e+01,\n",
              "       2.59057281e+01, 2.06194758e+01, 1.19763569e+01, 2.05941587e+01,\n",
              "       8.42824900e-01, 8.28596258e+00, 3.04760514e+00, 3.91154691e+00,\n",
              "       7.15348866e+00, 1.33694438e-01, 1.83149048e+01, 3.09314226e+00,\n",
              "       8.52601298e+00, 2.23414784e+01, 6.00039062e+00, 9.58028140e+00,\n",
              "       1.34351272e+01, 9.72844721e+00, 1.89666105e+01, 1.02890388e+01,\n",
              "       1.61133892e+01, 1.15663253e+01, 1.07276691e+00, 2.77817197e+00,\n",
              "       1.68525770e+01, 9.01735350e+00, 1.66066344e+01, 1.43594848e+01,\n",
              "       3.19277847e+00, 7.19848539e+00, 3.12495333e+01, 1.41368634e+01,\n",
              "       9.17006381e-01, 1.60239195e+01, 2.16655767e+01, 2.08526731e+01,\n",
              "       1.62124500e+01, 9.75886426e+00, 2.52502656e+00, 1.65073349e+01,\n",
              "       5.10912411e-01, 2.35474107e+00, 7.01979875e+00, 2.67949394e+01,\n",
              "       1.15789329e+01, 4.34856063e+00, 1.01371379e+01, 5.00911620e+00,\n",
              "       4.43167686e+00, 2.44623931e+01, 7.10954127e+00, 1.35237644e+01,\n",
              "       2.40911698e+01, 2.08884973e+01, 1.40293601e+01, 2.31909361e+01,\n",
              "       1.73995206e+01, 1.96154636e+01, 8.81001904e+00, 1.00748151e+01,\n",
              "       4.46519613e+00, 1.36197133e+01, 3.40010113e+00, 1.39521313e+01,\n",
              "       3.53487086e+00, 2.90222993e+01, 1.23142213e+01, 1.72601155e+00,\n",
              "       8.51786588e+00, 1.24633109e+00, 1.64314540e+01, 4.57992389e+00,\n",
              "       1.50287063e+01, 3.74709188e+00, 2.38547185e+01, 5.63147417e+00,\n",
              "       3.91547418e+00, 1.37387499e+00, 4.71293402e+00, 1.62912085e+00,\n",
              "       1.12619682e+01, 2.12264908e+00, 9.37357918e+00, 9.14979078e+00,\n",
              "       1.54324992e+01, 7.26323179e+00, 2.97929798e+00, 3.21403677e+00,\n",
              "       8.77731340e+00, 1.52418310e+01, 4.35520146e+00, 9.49165164e+00,\n",
              "       4.71327255e+00, 4.13949683e+00, 4.60819849e+00, 3.19545414e+00,\n",
              "       9.70466490e+00, 1.31074506e+01, 1.55109881e+01, 9.51511708e-01,\n",
              "       4.43648358e+00, 8.99564018e+00, 2.25602665e+01, 9.19525829e+00,\n",
              "       6.89629410e+00, 9.11225048e+00, 7.65026145e+00, 6.13280457e+00,\n",
              "       1.17044539e+01, 1.93526900e+01, 2.12787226e+01, 6.80092797e+00,\n",
              "       3.33224925e+00, 6.52108175e-01, 1.16628403e+01, 9.50786559e+00,\n",
              "       1.66467652e+01, 4.12444951e-01, 1.88064472e+01, 6.14529784e+00,\n",
              "       4.59875908e+00, 1.18290873e+01, 1.13037290e+01, 6.12229673e+00,\n",
              "       1.65788336e+01, 3.09709273e+00, 1.28344021e+01, 1.34516140e+01,\n",
              "       2.65660704e+01, 5.18537058e+00, 2.60521007e+00, 8.40558668e+00,\n",
              "       1.10605433e+00, 1.66331904e+01, 1.26365718e+01, 8.62505976e-01,\n",
              "       6.51628433e+00, 3.78802198e+00, 9.85149626e+00, 3.66108941e+00,\n",
              "       1.95888806e+01, 8.92821401e-01, 5.89816774e+00, 2.15845927e+01,\n",
              "       7.25078072e+00, 1.20993864e+00, 2.52480262e+00, 8.27871524e+00,\n",
              "       1.55071057e+01, 2.76268472e+00, 1.81604877e+00, 3.23273771e+00,\n",
              "       1.32170309e+01, 1.12196503e+01, 2.75152634e+01, 1.96002960e+01,\n",
              "       3.37998126e+01, 8.58158116e+00, 1.49390197e+01, 5.13349289e+00,\n",
              "       8.37118016e+00, 4.95324984e+00, 7.48134541e+00, 1.08266958e+01,\n",
              "       1.76317364e+00, 2.08736342e+01, 1.56146144e+01, 1.44478909e+01,\n",
              "       5.88736644e+00, 1.42677640e+01, 6.10363428e+00, 8.57960335e+00,\n",
              "       1.49492307e+01, 1.07034665e+01, 1.19011301e+01, 6.69364681e+00,\n",
              "       1.32118224e+01, 2.38574351e+01, 6.09286850e+00, 5.07497042e+00,\n",
              "       7.53366318e+00, 2.74502662e+01, 3.08020855e+00, 2.93596138e+01,\n",
              "       1.94869960e+01, 1.28008308e+01, 4.49334065e-01, 1.16813632e+01,\n",
              "       1.09469202e+01, 2.20777996e+01, 5.73627296e+00, 3.09015524e+00,\n",
              "       1.13241594e+00, 7.96664250e+00, 1.66567576e+01, 5.84103457e+00,\n",
              "       5.23784444e+00, 1.53455240e+01, 4.02436915e+01, 3.91224876e+01,\n",
              "       1.36388792e+00, 1.12584903e+01, 1.88432462e+01, 2.04119261e+01,\n",
              "       5.05614587e+00, 2.79889284e+01, 1.24071975e+01, 7.48598419e+00,\n",
              "       1.32067425e+01, 2.74426924e+00, 5.85235053e+00, 6.56624072e+00,\n",
              "       1.18480795e+01, 4.26732148e-01, 3.39561581e+00, 3.83766961e+01,\n",
              "       1.17890577e+01, 3.34735230e+01, 1.51968081e+01, 1.14133240e+01,\n",
              "       1.46086279e+01, 6.20215909e+00, 5.82817616e+00, 2.25419900e+01,\n",
              "       1.57417121e+01, 9.24822228e-01, 2.94175523e+01, 6.47490232e+00,\n",
              "       1.12539240e+01, 2.05479153e+01, 1.78775407e+01, 1.57925589e+01,\n",
              "       4.98651463e+00, 2.41573325e+00, 1.20692958e+01, 1.54893805e+01,\n",
              "       1.85764443e+01, 8.04436962e+00, 1.80860450e+01, 4.16012654e+00,\n",
              "       5.54544857e+00, 1.85412136e+01, 1.55019246e+01, 7.73838838e+00,\n",
              "       9.12266516e-01, 1.41820583e+01, 1.18240525e+01, 1.06496173e+01,\n",
              "       3.40721909e+01, 1.65356087e+01, 3.92678004e+00, 3.67163186e+00,\n",
              "       4.32863407e+00, 2.10884066e+00, 2.55132388e+00, 6.64435189e+00,\n",
              "       1.91730193e+01, 1.16702151e+00, 1.23007158e+01, 1.56201958e+01,\n",
              "       1.12223557e+01, 1.40920542e+00, 8.32560576e+00, 1.44634338e+01])"
            ]
          },
          "metadata": {},
          "execution_count": 90
        }
      ],
      "source": [
        "x[x>0.0]\n",
        "\n"
      ]
    },
    {
      "cell_type": "code",
      "execution_count": 106,
      "metadata": {
        "colab": {
          "base_uri": "https://localhost:8080/"
        },
        "id": "a3gRrffcLt71",
        "outputId": "2e55723e-e010-4c0e-fa5e-608af7a61890"
      },
      "outputs": [
        {
          "output_type": "execute_result",
          "data": {
            "text/plain": [
              "(475,\n",
              " 1.9425538144787944,\n",
              " -40.36783941191803,\n",
              " -7.6493606198532484,\n",
              " 7.373774210392715)"
            ]
          },
          "metadata": {},
          "execution_count": 106
        }
      ],
      "source": [
        "\n",
        "len(x[x<2]), max(x[x<2]), min(x[x<2]), numpy.mean(x[x<2]), numpy.std(x[x<2])\n",
        "\n"
      ]
    },
    {
      "cell_type": "markdown",
      "metadata": {
        "id": "xjBjUWRbLt72"
      },
      "source": [
        "## References:\n",
        "* `numpy` documentation: https://docs.scipy.org/doc/numpy/reference/\n",
        "    * almost any question about `numpy` is already answered on stackoverflow\n",
        "* [From python to numpy: a beautiful book about numpy](https://github.com/rougier/from-python-to-numpy)\n",
        "* Data manipulation with `numpy`: tips and tricks [part1](http://arogozhnikov.github.io/2015/09/29/NumpyTipsAndTricks1.html), [part2](http://arogozhnikov.github.io/2015/09/30/NumpyTipsAndTricks2.html)\n"
      ]
    },
    {
      "cell_type": "code",
      "execution_count": null,
      "metadata": {
        "id": "hqbiOV5PLt73"
      },
      "outputs": [],
      "source": []
    }
  ],
  "metadata": {
    "kernelspec": {
      "display_name": "Python 3",
      "language": "python",
      "name": "python3"
    },
    "language_info": {
      "codemirror_mode": {
        "name": "ipython",
        "version": 3
      },
      "file_extension": ".py",
      "mimetype": "text/x-python",
      "name": "python",
      "nbconvert_exporter": "python",
      "pygments_lexer": "ipython3",
      "version": "3.9.12"
    },
    "colab": {
      "provenance": [],
      "collapsed_sections": [
        "ylWiJjtZLt7D",
        "xjBjUWRbLt72"
      ]
    }
  },
  "nbformat": 4,
  "nbformat_minor": 0
}