{
 "cells": [
  {
   "cell_type": "markdown",
   "metadata": {},
   "source": [
    "## Hello Jupyter"
   ]
  },
  {
   "cell_type": "code",
   "execution_count": 2,
   "metadata": {},
   "outputs": [
    {
     "name": "stdout",
     "output_type": "stream",
     "text": [
      "hello Alex\n"
     ]
    }
   ],
   "source": [
    "print ('hello Alex')"
   ]
  },
  {
   "cell_type": "code",
   "execution_count": 3,
   "metadata": {},
   "outputs": [
    {
     "name": "stdout",
     "output_type": "stream",
     "text": [
      "3\n"
     ]
    }
   ],
   "source": [
    "x = 3\n",
    "print (x)"
   ]
  },
  {
   "cell_type": "code",
   "execution_count": 4,
   "metadata": {},
   "outputs": [
    {
     "data": {
      "text/plain": [
       "8"
      ]
     },
     "execution_count": 4,
     "metadata": {},
     "output_type": "execute_result"
    }
   ],
   "source": [
    "# reexecute this cell several times\n",
    "x = x + 5\n",
    "# output of the last line in the cell is shown\n",
    "x"
   ]
  },
  {
   "cell_type": "code",
   "execution_count": 5,
   "metadata": {},
   "outputs": [
    {
     "data": {
      "text/plain": [
       "'string can contain characters including \\n new lines and \\t tabs'"
      ]
     },
     "execution_count": 5,
     "metadata": {},
     "output_type": "execute_result"
    }
   ],
   "source": [
    "my_string = \"string can contain characters including \\n new lines and \\t tabs\"\n",
    "my_string"
   ]
  },
  {
   "cell_type": "code",
   "execution_count": 6,
   "metadata": {},
   "outputs": [
    {
     "name": "stdout",
     "output_type": "stream",
     "text": [
      "string can contain characters including \n",
      " new lines and \t tabs\n"
     ]
    }
   ],
   "source": [
    "print (my_string)"
   ]
  },
  {
   "cell_type": "code",
   "execution_count": 7,
   "metadata": {},
   "outputs": [
    {
     "data": {
      "text/plain": [
       "57"
      ]
     },
     "execution_count": 7,
     "metadata": {},
     "output_type": "execute_result"
    }
   ],
   "source": [
    "12 + 45"
   ]
  },
  {
   "cell_type": "code",
   "execution_count": 8,
   "metadata": {},
   "outputs": [
    {
     "data": {
      "text/plain": [
       "84.0"
      ]
     },
     "execution_count": 8,
     "metadata": {},
     "output_type": "execute_result"
    }
   ],
   "source": [
    "# result types are safer\n",
    "24 * 3.5"
   ]
  },
  {
   "cell_type": "markdown",
   "metadata": {},
   "source": [
    "## Lists, Dictionaries"
   ]
  },
  {
   "cell_type": "code",
   "execution_count": 9,
   "metadata": {},
   "outputs": [],
   "source": [
    "x = [1, 2, 3]"
   ]
  },
  {
   "cell_type": "code",
   "execution_count": 10,
   "metadata": {},
   "outputs": [
    {
     "data": {
      "text/plain": [
       "(1, 3)"
      ]
     },
     "execution_count": 10,
     "metadata": {},
     "output_type": "execute_result"
    }
   ],
   "source": [
    "# in python enumeration starts from 0\n",
    "x[0], x[2]"
   ]
  },
  {
   "cell_type": "code",
   "execution_count": 11,
   "metadata": {},
   "outputs": [
    {
     "data": {
      "text/plain": [
       "[1, 2, 5, 10]"
      ]
     },
     "execution_count": 11,
     "metadata": {},
     "output_type": "execute_result"
    }
   ],
   "source": [
    "y = x[0:2] + [5, 10]\n",
    "y"
   ]
  },
  {
   "cell_type": "code",
   "execution_count": 12,
   "metadata": {},
   "outputs": [
    {
     "data": {
      "text/plain": [
       "[1, 5]"
      ]
     },
     "execution_count": 12,
     "metadata": {},
     "output_type": "execute_result"
    }
   ],
   "source": [
    "y[::2]"
   ]
  },
  {
   "cell_type": "code",
   "execution_count": 13,
   "metadata": {},
   "outputs": [
    {
     "data": {
      "text/plain": [
       "[10, 5, 2, 1]"
      ]
     },
     "execution_count": 13,
     "metadata": {},
     "output_type": "execute_result"
    }
   ],
   "source": [
    "y[::-1]"
   ]
  },
  {
   "cell_type": "markdown",
   "metadata": {},
   "source": [
    "## Dictionaries"
   ]
  },
  {
   "cell_type": "code",
   "execution_count": 14,
   "metadata": {},
   "outputs": [],
   "source": [
    "d = {'a': 1, 'b': 2}"
   ]
  },
  {
   "cell_type": "code",
   "execution_count": 15,
   "metadata": {},
   "outputs": [
    {
     "data": {
      "text/plain": [
       "{'a': 1, 'b': 2, 'c': 3, 'casdsd': 34}"
      ]
     },
     "execution_count": 15,
     "metadata": {},
     "output_type": "execute_result"
    }
   ],
   "source": [
    "d['c'] = 3\n",
    "d['casdsd'] = 34\n",
    "d"
   ]
  },
  {
   "cell_type": "code",
   "execution_count": 16,
   "metadata": {},
   "outputs": [
    {
     "name": "stdout",
     "output_type": "stream",
     "text": [
      "a 1\n",
      "b 2\n",
      "c 3\n",
      "casdsd 34\n"
     ]
    }
   ],
   "source": [
    "for key, value in d.items():\n",
    "    print (key, value)"
   ]
  },
  {
   "cell_type": "markdown",
   "metadata": {},
   "source": [
    "## Important python libraries\n",
    "\n",
    " - numpy (numerics) + scipy (scientific functions) \n",
    " - matplotlib - plotting\n",
    " - pandas - convenient operations on data for Data Science\n",
    " - scikit-learn - machine learning\n",
    " \n",
    "We'll meet them very soon."
   ]
  },
  {
   "cell_type": "markdown",
   "metadata": {},
   "source": [
    "## Hello numpy!\n",
    "\n",
    "`numpy` is the core of scientific python. It is the most convenient way to organize number-crunching in python."
   ]
  },
  {
   "cell_type": "code",
   "execution_count": 17,
   "metadata": {},
   "outputs": [],
   "source": [
    "import numpy"
   ]
  },
  {
   "cell_type": "code",
   "execution_count": 18,
   "metadata": {},
   "outputs": [
    {
     "data": {
      "text/plain": [
       "array([0, 1, 2, 3, 4, 5, 6, 7, 8, 9])"
      ]
     },
     "execution_count": 18,
     "metadata": {},
     "output_type": "execute_result"
    }
   ],
   "source": [
    "x = numpy.arange(10)\n",
    "x"
   ]
  },
  {
   "cell_type": "code",
   "execution_count": 19,
   "metadata": {},
   "outputs": [
    {
     "data": {
      "text/plain": [
       "array([[0, 1],\n",
       "       [2, 3],\n",
       "       [4, 5],\n",
       "       [6, 7],\n",
       "       [8, 9]])"
      ]
     },
     "execution_count": 19,
     "metadata": {},
     "output_type": "execute_result"
    }
   ],
   "source": [
    "x.reshape(5, 2)"
   ]
  },
  {
   "cell_type": "code",
   "execution_count": 20,
   "metadata": {},
   "outputs": [],
   "source": [
    "# x.reshape(3, 4)"
   ]
  },
  {
   "cell_type": "code",
   "execution_count": 21,
   "metadata": {},
   "outputs": [
    {
     "data": {
      "text/plain": [
       "array([0, 1, 2, 3])"
      ]
     },
     "execution_count": 21,
     "metadata": {},
     "output_type": "execute_result"
    }
   ],
   "source": [
    "# slicing has the same logic for lists / strings / tuples / numpy, etc\n",
    "x[:4]"
   ]
  },
  {
   "cell_type": "code",
   "execution_count": 22,
   "metadata": {},
   "outputs": [
    {
     "name": "stdout",
     "output_type": "stream",
     "text": [
      "[0 1 2]\n",
      "[3 4 5 6]\n",
      "[7 8 9]\n"
     ]
    }
   ],
   "source": [
    "print (x[:3])\n",
    "print (x[3:7])\n",
    "print (x[7:])"
   ]
  },
  {
   "cell_type": "markdown",
   "metadata": {},
   "source": [
    "### Vector operations"
   ]
  },
  {
   "cell_type": "code",
   "execution_count": 25,
   "metadata": {},
   "outputs": [
    {
     "data": {
      "text/plain": [
       "array([1.200000e+01, 1.500000e+01, 1.800000e+01, ..., 3.000003e+06,\n",
       "       3.000006e+06, 3.000009e+06])"
      ]
     },
     "execution_count": 25,
     "metadata": {},
     "output_type": "execute_result"
    }
   ],
   "source": [
    "x = numpy.arange(10 ** 6) #Return evenly spaced values within a given interval.\n",
    "# vector operations do similar task for each element. In this case each element is multiplied by 3 and 12 added.\n",
    "3 * x + 12."
   ]
  },
  {
   "cell_type": "code",
   "execution_count": 26,
   "metadata": {},
   "outputs": [
    {
     "name": "stdout",
     "output_type": "stream",
     "text": [
      "4.63 ms ± 325 µs per loop (mean ± std. dev. of 7 runs, 100 loops each)\n"
     ]
    }
   ],
   "source": [
    "# use timing magic to understand this is quite fast\n",
    "%timeit 3 * x + 12."
   ]
  },
  {
   "cell_type": "code",
   "execution_count": 30,
   "metadata": {},
   "outputs": [
    {
     "data": {
      "text/plain": [
       "array([[ 0,  1,  2],\n",
       "       [ 3,  4,  5],\n",
       "       [ 6,  7,  8],\n",
       "       [ 9, 10, 11],\n",
       "       [12, 13, 14]])"
      ]
     },
     "execution_count": 30,
     "metadata": {},
     "output_type": "execute_result"
    }
   ],
   "source": [
    "Z = numpy.arange(15).reshape(5, 3)\n",
    "Z"
   ]
  },
  {
   "cell_type": "code",
   "execution_count": 31,
   "metadata": {},
   "outputs": [
    {
     "data": {
      "text/plain": [
       "array([[ 0.,  1.,  2.],\n",
       "       [ 3.,  4.,  5.],\n",
       "       [ 6.,  7.,  8.],\n",
       "       [ 9., 10., 11.],\n",
       "       [12., 13., 14.]])"
      ]
     },
     "execution_count": 31,
     "metadata": {},
     "output_type": "execute_result"
    }
   ],
   "source": [
    "numpy.log(numpy.exp(Z)) # type conversion happened"
   ]
  },
  {
   "cell_type": "code",
   "execution_count": 32,
   "metadata": {},
   "outputs": [],
   "source": [
    "Z += 4"
   ]
  },
  {
   "cell_type": "code",
   "execution_count": 33,
   "metadata": {},
   "outputs": [
    {
     "data": {
      "text/plain": [
       "array([[ 4,  5,  6],\n",
       "       [ 7,  8,  9],\n",
       "       [10, 11, 12],\n",
       "       [13, 14, 15],\n",
       "       [16, 17, 18]])"
      ]
     },
     "execution_count": 33,
     "metadata": {},
     "output_type": "execute_result"
    }
   ],
   "source": [
    "Z"
   ]
  },
  {
   "cell_type": "code",
   "execution_count": 34,
   "metadata": {},
   "outputs": [
    {
     "data": {
      "text/plain": [
       "array([[ 4,  5,  6],\n",
       "       [10, 11, 12],\n",
       "       [16, 17, 18]])"
      ]
     },
     "execution_count": 34,
     "metadata": {},
     "output_type": "execute_result"
    }
   ],
   "source": [
    "Z[::2, :]"
   ]
  },
  {
   "cell_type": "code",
   "execution_count": 35,
   "metadata": {},
   "outputs": [
    {
     "data": {
      "text/plain": [
       "array([[ 4,  5,  6],\n",
       "       [10, 11, 12],\n",
       "       [16, 17, 18]])"
      ]
     },
     "execution_count": 35,
     "metadata": {},
     "output_type": "execute_result"
    }
   ],
   "source": [
    "Z[[0, 2, 4], :]"
   ]
  },
  {
   "cell_type": "code",
   "execution_count": 36,
   "metadata": {},
   "outputs": [
    {
     "data": {
      "text/plain": [
       "array([15, 24, 33, 42, 51])"
      ]
     },
     "execution_count": 36,
     "metadata": {},
     "output_type": "execute_result"
    }
   ],
   "source": [
    "Z.sum(axis=1)"
   ]
  },
  {
   "cell_type": "code",
   "execution_count": 37,
   "metadata": {},
   "outputs": [
    {
     "data": {
      "text/plain": [
       "array([50, 55, 60])"
      ]
     },
     "execution_count": 37,
     "metadata": {},
     "output_type": "execute_result"
    }
   ],
   "source": [
    "# axes are also zero-numerated\n",
    "Z.sum(axis=0)"
   ]
  },
  {
   "cell_type": "code",
   "execution_count": 38,
   "metadata": {},
   "outputs": [
    {
     "data": {
      "text/plain": [
       "array([ 6,  9, 12, 15, 18])"
      ]
     },
     "execution_count": 38,
     "metadata": {},
     "output_type": "execute_result"
    }
   ],
   "source": [
    "Z.max(axis=1)"
   ]
  },
  {
   "cell_type": "code",
   "execution_count": 39,
   "metadata": {},
   "outputs": [
    {
     "data": {
      "text/plain": [
       "array([[ -6,  -5,  -4],\n",
       "       [ -9,  -8,  -7],\n",
       "       [-12, -11, -10],\n",
       "       [-15, -14, -13],\n",
       "       [-18, -17, -16]])"
      ]
     },
     "execution_count": 39,
     "metadata": {},
     "output_type": "execute_result"
    }
   ],
   "source": [
    "Z2 = - Z\n",
    "Z2 = numpy.sort(Z2, axis=1)\n",
    "Z2"
   ]
  },
  {
   "cell_type": "markdown",
   "metadata": {},
   "source": [
    "## Indexing with boolean array"
   ]
  },
  {
   "cell_type": "code",
   "execution_count": 40,
   "metadata": {},
   "outputs": [
    {
     "data": {
      "text/plain": [
       "array([0, 1, 2, 3, 4, 5, 6, 7, 8, 9])"
      ]
     },
     "execution_count": 40,
     "metadata": {},
     "output_type": "execute_result"
    }
   ],
   "source": [
    "x = numpy.arange(10)\n",
    "x"
   ]
  },
  {
   "cell_type": "code",
   "execution_count": 41,
   "metadata": {},
   "outputs": [
    {
     "data": {
      "text/plain": [
       "array([False, False, False, False,  True,  True,  True,  True,  True,\n",
       "        True])"
      ]
     },
     "execution_count": 41,
     "metadata": {},
     "output_type": "execute_result"
    }
   ],
   "source": [
    "x > 3"
   ]
  },
  {
   "cell_type": "code",
   "execution_count": 42,
   "metadata": {},
   "outputs": [
    {
     "data": {
      "text/plain": [
       "array([0, 1, 2, 3, 4, 5, 6, 7])"
      ]
     },
     "execution_count": 42,
     "metadata": {},
     "output_type": "execute_result"
    }
   ],
   "source": [
    "x[x < 7.4]"
   ]
  },
  {
   "cell_type": "markdown",
   "metadata": {},
   "source": [
    "## Copies\n",
    "\n",
    "Many operations in numpy don't create copies, but operate with the same memory "
   ]
  },
  {
   "cell_type": "code",
   "execution_count": 44,
   "metadata": {},
   "outputs": [
    {
     "name": "stdout",
     "output_type": "stream",
     "text": [
      "[0 1 2 3 4 5 6 7 8 9] [0 1 2 3 4]\n",
      "[10  1  2  3  4  5  6  7  8  9] [10  1  2  3  4]\n"
     ]
    }
   ],
   "source": [
    "x = numpy.arange(10)\n",
    "y = x[:5]\n",
    "\n",
    "print (x, y)\n",
    "y[0] = 10\n",
    "print (x, y)"
   ]
  },
  {
   "cell_type": "markdown",
   "metadata": {},
   "source": [
    "this happened because x and y point __to the same place in memory__"
   ]
  },
  {
   "cell_type": "code",
   "execution_count": 47,
   "metadata": {},
   "outputs": [
    {
     "name": "stdout",
     "output_type": "stream",
     "text": [
      "[0 1 2 3 4 5 6 7 8 9] [0 1 2 3 4]\n",
      "[0 1 2 3 4 5 6 7 8 9] [10  1  2  3  4]\n"
     ]
    }
   ],
   "source": [
    "x = numpy.arange(10)\n",
    "y = x[:5].copy()\n",
    "print (x, y)\n",
    "y[0] = 10\n",
    "print (x, y)"
   ]
  },
  {
   "cell_type": "markdown",
   "metadata": {},
   "source": [
    "## Random numbers\n",
    "\n",
    "module `numpy.random` helps with generating random numbers"
   ]
  },
  {
   "cell_type": "code",
   "execution_count": 48,
   "metadata": {},
   "outputs": [
    {
     "data": {
      "text/plain": [
       "array([-7.36130105, -3.89579987,  0.17604214, ...,  7.29555741,\n",
       "       -1.65568502, 11.3454555 ])"
      ]
     },
     "execution_count": 48,
     "metadata": {},
     "output_type": "execute_result"
    }
   ],
   "source": [
    "# generating 10000 random numbers at once\n",
    "numpy.random.normal(loc=2, scale=12, size=10000)"
   ]
  },
  {
   "cell_type": "markdown",
   "metadata": {},
   "source": [
    "## Sorting"
   ]
  },
  {
   "cell_type": "code",
   "execution_count": 49,
   "metadata": {},
   "outputs": [],
   "source": [
    "x = numpy.random.random(size=1000)\n",
    "x = numpy.sort(x)"
   ]
  },
  {
   "cell_type": "code",
   "execution_count": 51,
   "metadata": {},
   "outputs": [
    {
     "name": "stdout",
     "output_type": "stream",
     "text": [
      "[0.00050614 0.00080774 0.00090352 0.00102425 0.00138886 0.00197455\n",
      " 0.00375454 0.00412814 0.00436505 0.00503647]\n",
      "[0.99073474 0.9911111  0.99331845 0.99376466 0.99423361 0.99551581\n",
      " 0.99594238 0.99610095 0.99610258 0.99913341]\n"
     ]
    }
   ],
   "source": [
    "print (x[:10])\n",
    "print (x[-10:])"
   ]
  },
  {
   "cell_type": "markdown",
   "metadata": {},
   "source": [
    "## Arg...\n",
    "\n",
    "arg-functions allow writing non-trivial operations with a couple of lines"
   ]
  },
  {
   "cell_type": "code",
   "execution_count": 28,
   "metadata": {},
   "outputs": [],
   "source": [
    "# random.random generates uniform in [0, 1]\n",
    "random_numbers = numpy.random.random(size=1000)\n",
    "indices = numpy.argsort(random_numbers) #Returns the indices that would sort an array."
   ]
  },
  {
   "cell_type": "code",
   "execution_count": 29,
   "metadata": {},
   "outputs": [
    {
     "data": {
      "text/plain": [
       "True"
      ]
     },
     "execution_count": 29,
     "metadata": {},
     "output_type": "execute_result"
    }
   ],
   "source": [
    "numpy.alltrue(random_numbers[indices] == numpy.sort(random_numbers)) #Test whether all array elements along a given axis evaluate to True."
   ]
  },
  {
   "cell_type": "code",
   "execution_count": 61,
   "metadata": {},
   "outputs": [
    {
     "data": {
      "text/plain": [
       "array([ 60,   0, 546, 781, 353, 746, 356, 595, 466, 705])"
      ]
     },
     "execution_count": 61,
     "metadata": {},
     "output_type": "execute_result"
    }
   ],
   "source": [
    "indices[:10]"
   ]
  },
  {
   "cell_type": "code",
   "execution_count": 62,
   "metadata": {},
   "outputs": [
    {
     "data": {
      "text/plain": [
       "(0.0005381736095251277, 0.9998512961979813)"
      ]
     },
     "execution_count": 62,
     "metadata": {},
     "output_type": "execute_result"
    }
   ],
   "source": [
    "random_numbers.min(), random_numbers.max()"
   ]
  },
  {
   "cell_type": "code",
   "execution_count": 63,
   "metadata": {},
   "outputs": [
    {
     "data": {
      "text/plain": [
       "(446, 0.9998512961979813)"
      ]
     },
     "execution_count": 63,
     "metadata": {},
     "output_type": "execute_result"
    }
   ],
   "source": [
    "random_numbers.argmax(), random_numbers[random_numbers.argmax()]"
   ]
  },
  {
   "cell_type": "code",
   "execution_count": 64,
   "metadata": {},
   "outputs": [
    {
     "data": {
      "text/plain": [
       "(60, 0.0005381736095251277)"
      ]
     },
     "execution_count": 64,
     "metadata": {},
     "output_type": "execute_result"
    }
   ],
   "source": [
    "random_numbers.argmin(), random_numbers[random_numbers.argmin()]"
   ]
  },
  {
   "cell_type": "markdown",
   "metadata": {},
   "source": [
    "## Homework 3"
   ]
  },
  {
   "cell_type": "code",
   "execution_count": 31,
   "metadata": {},
   "outputs": [],
   "source": [
    "import numpy as np"
   ]
  },
  {
   "cell_type": "code",
   "execution_count": 88,
   "metadata": {},
   "outputs": [],
   "source": [
    "# 1. sample 1000 elements from normal distribution \n",
    "mu, sigma = 0, 0.1 \n",
    "X = np.random.normal(mu,sigma,1000)"
   ]
  },
  {
   "cell_type": "code",
   "execution_count": 89,
   "metadata": {},
   "outputs": [
    {
     "name": "stdout",
     "output_type": "stream",
     "text": [
      "[9.23050139e-02 5.94817434e-02 5.58088291e-02 7.00467949e-03\n",
      " 8.85465082e-02 1.20347488e-02 7.21145203e-02 1.48341156e-01\n",
      " 1.63089302e-02 2.04411506e-01 1.75615391e-02 1.20489835e-01\n",
      " 3.95586584e-02 5.23925678e-02 2.37778589e-02 7.49925169e-02\n",
      " 1.24581661e-01 8.97068064e-02 1.19195864e-01 9.17898524e-03\n",
      " 3.54996747e-02 2.16363635e-02 2.97065366e-02 4.25490501e-02\n",
      " 9.75417609e-02 5.64835242e-02 7.53194241e-02 1.35693259e-02\n",
      " 2.57852131e-02 7.04359957e-02 3.13914421e-02 1.41895263e-01\n",
      " 1.48338009e-01 1.76455787e-01 8.39481775e-02 1.80490644e-01\n",
      " 7.00550594e-03 3.30602245e-02 6.57748321e-02 1.67548138e-01\n",
      " 9.32958532e-02 1.21438684e-01 1.68363147e-02 5.12698170e-03\n",
      " 1.46840100e-01 2.13239211e-02 4.08951234e-02 3.84490992e-02\n",
      " 1.09899366e-01 3.73919952e-04 2.28317044e-02 8.21327167e-02\n",
      " 1.19404937e-01 8.86689097e-02 6.77107846e-02 9.26039362e-02\n",
      " 5.23682835e-02 2.56620804e-02 9.91118669e-02 4.73931298e-02\n",
      " 1.75507581e-01 6.26288529e-02 1.29746097e-02 7.95514013e-03\n",
      " 9.42530409e-02 4.77391313e-02 3.68503185e-02 2.57826107e-01\n",
      " 1.38433049e-02 1.41633734e-02 5.64057238e-02 6.80211343e-02\n",
      " 5.49810829e-02 5.64804007e-03 4.93930361e-02 4.38560918e-02\n",
      " 3.02961800e-02 2.54368423e-02 8.11697398e-02 1.85505774e-01\n",
      " 2.89582833e-03 6.29808240e-02 1.11451594e-01 8.92857740e-02\n",
      " 3.95747771e-02 1.95214754e-01 1.33267800e-02 1.57432051e-01\n",
      " 8.85002742e-02 1.21677902e-01 1.36610930e-02 2.14712102e-02\n",
      " 5.19107669e-02 8.23655025e-02 9.77957066e-02 6.35110917e-03\n",
      " 7.47024592e-02 8.64239967e-02 3.86163993e-02 7.65960441e-02\n",
      " 1.55693615e-02 1.16764203e-01 2.32886508e-01 1.32100537e-01\n",
      " 1.18860982e-01 1.76289578e-01 6.36180973e-02 7.32692689e-02\n",
      " 4.44424321e-03 1.60277145e-02 1.30044093e-01 9.48439442e-03\n",
      " 5.97272870e-02 2.99955869e-03 1.50796475e-01 6.82862972e-02\n",
      " 1.17245632e-02 1.83816519e-02 4.47799926e-02 3.03653816e-02\n",
      " 9.10955020e-02 7.93596281e-02 1.55151418e-01 1.95577822e-02\n",
      " 4.11677173e-02 3.29521906e-02 6.07618558e-02 3.36511906e-02\n",
      " 2.04270197e-03 3.40702177e-02 1.61491388e-01 7.99607475e-02\n",
      " 4.71089104e-03 1.51224308e-02 1.66228738e-01 3.81736816e-02\n",
      " 8.12935412e-02 7.53434899e-02 1.20219135e-01 2.76133404e-02\n",
      " 1.47281241e-01 3.08315148e-02 1.21482688e-01 5.54698390e-02\n",
      " 9.16120055e-02 7.60537932e-02 6.34140181e-02 1.81634850e-01\n",
      " 1.26701793e-02 1.24725447e-02 5.29273876e-02 1.41126537e-01\n",
      " 2.04306714e-02 2.00300056e-01 3.68896463e-02 1.72210207e-01\n",
      " 2.97829390e-02 1.22045202e-01 6.33512402e-02 1.63364784e-02\n",
      " 1.07353238e-01 8.30110779e-02 4.92643401e-02 8.76126640e-02\n",
      " 1.63242657e-01 3.64024887e-02 1.68577904e-03 5.74362735e-02\n",
      " 1.22137725e-01 4.63039962e-03 1.32627704e-01 5.61400504e-02\n",
      " 2.16641691e-02 8.02614952e-02 1.74958353e-02 1.50069884e-01\n",
      " 4.14212549e-02 1.27011876e-01 6.91293593e-02 1.01532678e-01\n",
      " 3.34715998e-03 1.04510761e-01 1.00939147e-01 5.33552467e-02\n",
      " 1.81992469e-02 7.25622083e-02 5.18694464e-02 3.05172262e-02\n",
      " 4.04228084e-02 1.26829986e-02 8.97394134e-02 7.02343167e-02\n",
      " 3.14629929e-02 1.26307403e-01 1.02850935e-02 8.88343310e-02\n",
      " 1.31948871e-01 2.29431385e-02 3.38895138e-02 1.32287205e-01\n",
      " 1.96116818e-01 9.50725797e-02 9.32560321e-02 1.41437406e-02\n",
      " 6.72499505e-02 1.78520022e-02 3.92385488e-02 2.54042713e-02\n",
      " 1.05641740e-01 9.83010077e-02 3.51041965e-02 5.07514193e-03\n",
      " 5.53080133e-02 4.33529427e-02 6.79865692e-02 5.72907116e-02\n",
      " 1.14532550e-01 2.26804379e-02 2.21411717e-03 1.17016626e-01\n",
      " 6.97002027e-02 7.81834479e-02 1.33773166e-01 1.81235619e-01\n",
      " 5.14201374e-02 1.24409721e-01 1.45487980e-01 7.82196402e-02\n",
      " 2.59260266e-05 7.31612937e-03 6.84318519e-03 3.13490592e-02\n",
      " 1.12169339e-01 9.18283176e-02 1.12959100e-01 6.36065651e-02\n",
      " 4.88313283e-02 1.48378904e-01 2.44275894e-03 6.48175979e-02\n",
      " 1.13880637e-01 5.12324251e-02 1.84653554e-02 8.82595432e-02\n",
      " 5.01116924e-02 1.55799329e-01 2.22294111e-02 5.63820219e-02\n",
      " 1.19439547e-01 1.85822060e-01 1.05501582e-01 9.95702476e-02\n",
      " 3.26607872e-02 2.22329068e-01 1.31036776e-01 6.59706360e-02\n",
      " 8.42126615e-02 8.88583997e-02 1.59495047e-01 1.08050991e-01\n",
      " 1.76048502e-01 3.49306226e-02 4.84226421e-02 1.76888249e-02\n",
      " 5.87092098e-02 9.03934642e-03 1.07021654e-01 8.04224623e-02\n",
      " 2.19780367e-02 6.68121384e-02 2.69533792e-02 1.76620120e-01\n",
      " 2.42602260e-02 2.56529472e-02 1.97074543e-01 9.05212447e-03\n",
      " 4.09710721e-03 8.14852573e-02 2.58986651e-02 3.69341687e-02\n",
      " 5.07152184e-02 8.11013878e-02 2.50872724e-02 5.45202298e-03\n",
      " 4.12615638e-03 7.45818440e-02 1.59240312e-01 1.26389522e-02\n",
      " 1.06276211e-01 5.22484850e-02 9.57392063e-02 5.14691523e-02\n",
      " 1.05924066e-01 5.08747032e-03 8.27501855e-02 1.81360004e-01\n",
      " 3.98667877e-02 5.60528906e-03 7.96637687e-02 7.80241524e-02\n",
      " 1.40183790e-01 6.49346745e-02 4.41598771e-02 4.86253845e-02\n",
      " 1.92246275e-01 2.80966382e-02 1.04990842e-01 1.26434502e-01\n",
      " 5.84570645e-02 1.48337235e-01 5.53144522e-02 2.61278816e-02\n",
      " 8.70085254e-02 2.63842431e-01 1.28763300e-01 1.26304761e-03\n",
      " 9.27548526e-02 7.15043614e-02 9.88100318e-02 7.19024530e-02\n",
      " 1.06808185e-01 1.13103574e-01 4.94770076e-03 2.24761542e-02\n",
      " 2.22542373e-02 3.27384436e-02 1.58861819e-02 5.07451274e-02\n",
      " 1.05371094e-01 1.30994679e-03 5.62534907e-03 7.45377350e-05\n",
      " 1.44652225e-01 1.01635160e-01 5.63448061e-02 1.22925262e-01\n",
      " 6.24691410e-02 1.07024156e-01 1.27428718e-01 3.67548279e-02\n",
      " 9.27008118e-02 1.28131858e-01 1.11533755e-01 1.53531563e-02\n",
      " 6.51639276e-02 5.07708386e-02 2.07783989e-02 7.09434759e-02\n",
      " 6.40481665e-02 1.35710064e-01 7.67700989e-02 1.91415166e-01\n",
      " 1.42701111e-01 1.60132632e-01 5.91356555e-02 1.77672297e-01\n",
      " 5.49918592e-02 5.63538771e-02 7.01708361e-02 1.64896637e-01\n",
      " 1.61197108e-01 9.50369153e-02 7.01331924e-02 3.01407354e-03\n",
      " 2.13581999e-01 1.79435480e-01 1.59193531e-01 6.54844751e-02\n",
      " 5.09678795e-02 8.21811124e-02 3.80832959e-02 5.95309352e-03\n",
      " 2.68300410e-03 8.76715448e-02 4.46847510e-02 7.56773473e-03\n",
      " 1.78404155e-01 1.08864878e-01 2.25144107e-01 6.56117688e-02\n",
      " 9.80557824e-02 3.81594492e-02 4.62476841e-02 4.03437639e-02\n",
      " 1.49122123e-01 6.82925390e-02 9.39917367e-02 1.03855824e-01\n",
      " 9.64438830e-02 3.97070936e-02 5.07497818e-02 1.01900628e-01\n",
      " 6.26055926e-02 3.43416366e-02 5.74816999e-02 8.84721657e-02\n",
      " 8.94062428e-02 9.50857740e-04 9.76451719e-02 9.33382312e-02\n",
      " 1.55677887e-01 9.10040820e-03 1.28867370e-01 1.36532371e-01\n",
      " 3.74921114e-02 5.59531717e-02 6.70964300e-02 1.81923990e-03\n",
      " 9.89764238e-02 3.80835350e-02 3.07514134e-03 7.72147921e-02\n",
      " 6.88041605e-02 1.30218943e-02 2.21510294e-01 3.98615664e-02\n",
      " 6.11535096e-02 2.63042742e-01 1.25359682e-01 1.05975676e-01\n",
      " 1.12565387e-01 1.45592582e-02 1.32397579e-01 9.20824143e-02\n",
      " 5.19348757e-02 1.99089926e-01 1.99832705e-02 3.39967621e-02\n",
      " 1.38984470e-01 7.98254132e-02 5.45809295e-02 1.65472160e-02\n",
      " 2.31442898e-02 1.60328340e-02 1.58736661e-02 7.22720632e-02\n",
      " 5.44012012e-02 7.67940410e-02 1.50239599e-01 1.48517599e-02\n",
      " 1.14138800e-01 1.50673017e-02 1.39011268e-01 1.05494869e-01\n",
      " 1.04312492e-01 1.60672389e-01 1.61756029e-01 2.76464148e-03\n",
      " 7.97538633e-02 4.83170465e-02 1.71871368e-01 1.11113785e-01\n",
      " 5.47011392e-02 7.90946720e-02 7.02201547e-02 2.08647334e-04\n",
      " 9.43311111e-02 4.37577459e-02 1.73974063e-01 7.60844840e-02\n",
      " 2.71947672e-02 1.99037363e-01 5.65121594e-02 5.82547644e-02\n",
      " 1.89048253e-01 5.29334239e-02 1.03567434e-01 1.24489700e-01\n",
      " 1.52445577e-02 9.80946779e-02 3.20831990e-02 9.25091479e-02\n",
      " 5.21888795e-03 8.68023446e-02 3.19877068e-02 2.61800690e-03\n",
      " 9.53483528e-02 1.40054333e-01 6.04652222e-02 2.00428352e-01\n",
      " 2.57637160e-03 2.22078294e-01 1.27088412e-01 7.85555075e-02\n",
      " 3.99116858e-02 9.15314464e-03 3.85575427e-02 1.54224291e-03\n",
      " 7.99279163e-02 8.84844565e-02 2.12992925e-01 4.19123100e-02\n",
      " 1.91393553e-02 1.65857417e-01 6.95251800e-03 1.69592483e-01\n",
      " 2.25770800e-02 6.42917659e-02 7.83578360e-02 4.32347495e-02\n",
      " 2.20266273e-02 4.96777915e-02]\n"
     ]
    }
   ],
   "source": [
    "# 2. leave only positive numbers (from previous exercise)\n",
    "poz = X[X>=0].copy()\n",
    "print(poz)"
   ]
  },
  {
   "cell_type": "code",
   "execution_count": 82,
   "metadata": {},
   "outputs": [
    {
     "name": "stdout",
     "output_type": "stream",
     "text": [
      "[-5 -4 -8 -3  0  8  3 -5  7 -1]\n"
     ]
    }
   ],
   "source": [
    "x = np.array([-5,-4,-8,-3,0,8,3,-5,7,-1])\n",
    "negs = []\n",
    "for q in range(len(x)):\n",
    "    if x[q]<0:\n",
    "        negs.append(q)\n",
    "        \n",
    "x = np.delete()"
   ]
  },
  {
   "cell_type": "code",
   "execution_count": 99,
   "metadata": {},
   "outputs": [
    {
     "name": "stdout",
     "output_type": "stream",
     "text": [
      "brojeva manjih od 0 ima: 498\n",
      "njihov minimum: -0.2954555864699102\n",
      "njihov maksimum: -0.00024364853426902543\n",
      "njihov mean: -0.08143156391019088\n",
      "njihova varijansa: 0.0037285973651133997\n"
     ]
    }
   ],
   "source": [
    "# 3. count number of left numbers, their minimum, maximum, mean and variance.\n",
    "print('brojeva manjih od 0 ima: ' + str(len(X) - len(poz)))\n",
    "print('njihov minimum: ' + str(np.amin(X[X<0])))\n",
    "print('njihov maksimum: ' + str(np.amax(X[X<0])))\n",
    "print('njihov mean: ' + str(np.mean(X[X<0])))\n",
    "print('njihova varijansa: ' + str(np.var(X[X<0])))"
   ]
  },
  {
   "cell_type": "markdown",
   "metadata": {},
   "source": [
    "## References:\n",
    "* `numpy` documentation: https://docs.scipy.org/doc/numpy/reference/\n",
    "    * almost any question about `numpy` is already answered on stackoverflow\n",
    "* [From python to numpy: a beautiful book about numpy](https://github.com/rougier/from-python-to-numpy)\n",
    "* Data manipulation with `numpy`: tips and tricks [part1](http://arogozhnikov.github.io/2015/09/29/NumpyTipsAndTricks1.html), [part2](http://arogozhnikov.github.io/2015/09/30/NumpyTipsAndTricks2.html)\n"
   ]
  },
  {
   "cell_type": "code",
   "execution_count": null,
   "metadata": {},
   "outputs": [],
   "source": []
  }
 ],
 "metadata": {
  "kernelspec": {
   "display_name": "Python 3 (ipykernel)",
   "language": "python",
   "name": "python3"
  },
  "language_info": {
   "codemirror_mode": {
    "name": "ipython",
    "version": 3
   },
   "file_extension": ".py",
   "mimetype": "text/x-python",
   "name": "python",
   "nbconvert_exporter": "python",
   "pygments_lexer": "ipython3",
   "version": "3.9.7"
  }
 },
 "nbformat": 4,
 "nbformat_minor": 1
}
